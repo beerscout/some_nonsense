{
 "cells": [
  {
   "cell_type": "code",
   "execution_count": 1,
   "metadata": {},
   "outputs": [],
   "source": [
    "import attr\n",
    "from collections import deque\n",
    "from itertools import combinations"
   ]
  },
  {
   "cell_type": "markdown",
   "metadata": {},
   "source": [
    "### Day 1"
   ]
  },
  {
   "cell_type": "code",
   "execution_count": 2,
   "metadata": {},
   "outputs": [],
   "source": [
    "def load_input1(fname):\n",
    "    with open(fname) as inf:\n",
    "        return [int(x.strip()) for x in inf]\n",
    "def sum2(nums):\n",
    "    n = len(nums)\n",
    "    for i in range(n - 1):\n",
    "        for j in range(i + 1, n):\n",
    "            if nums[i] + nums[j] == 2020:\n",
    "                return nums[i]*nums[j]\n",
    "    raise Exception('huh?')\n",
    "# only 200 numbers, so brute force works\n",
    "def sum3(nums):\n",
    "    n = len(nums)\n",
    "    for i in range(n - 2):\n",
    "        for j in range(i + 1, n - 1):\n",
    "            for k in range(j + 1, n):\n",
    "                if nums[i] + nums[j] + nums[k] == 2020:\n",
    "                    return nums[i]*nums[j]*nums[k]\n",
    "    raise Exception('huh?')"
   ]
  },
  {
   "cell_type": "code",
   "execution_count": 3,
   "metadata": {},
   "outputs": [],
   "source": [
    "nums = load_input1('/home/marek/Downloads/input_day1.txt')"
   ]
  },
  {
   "cell_type": "code",
   "execution_count": 4,
   "metadata": {},
   "outputs": [
    {
     "data": {
      "text/plain": [
       "921504"
      ]
     },
     "execution_count": 4,
     "metadata": {},
     "output_type": "execute_result"
    }
   ],
   "source": [
    "sum2(nums)"
   ]
  },
  {
   "cell_type": "code",
   "execution_count": 5,
   "metadata": {},
   "outputs": [
    {
     "data": {
      "text/plain": [
       "195700142"
      ]
     },
     "execution_count": 5,
     "metadata": {},
     "output_type": "execute_result"
    }
   ],
   "source": [
    "sum3(nums)"
   ]
  },
  {
   "cell_type": "markdown",
   "metadata": {},
   "source": [
    "### Day 2"
   ]
  },
  {
   "cell_type": "code",
   "execution_count": 6,
   "metadata": {},
   "outputs": [],
   "source": [
    "def load_input2(fname):\n",
    "    with open(fname) as inf:\n",
    "        rules = []\n",
    "        for line in inf:\n",
    "            f = line.split()\n",
    "            r0, r1 = [int(x) for x in f[0].split('-')]\n",
    "            letter = f[1][:-1]\n",
    "            pw = f[2]\n",
    "            rules.append((r0, r1, letter, pw))\n",
    "    return rules\n",
    "def valid1(rule):\n",
    "    cnt = rule[-1].count(rule[2])\n",
    "    return rule[0] <= cnt <= rule[1]\n",
    "def valid2(rule):\n",
    "    r0, r1, l, pw = rule\n",
    "    r0 -= 1\n",
    "    r1 -= 1\n",
    "    return pw[r0] == l and pw[r1] != l or pw[r0] != l and pw[r1] == l"
   ]
  },
  {
   "cell_type": "code",
   "execution_count": 7,
   "metadata": {},
   "outputs": [],
   "source": [
    "rules = load_input2('/home/marek/Downloads/input_day2.txt')"
   ]
  },
  {
   "cell_type": "code",
   "execution_count": 8,
   "metadata": {},
   "outputs": [
    {
     "data": {
      "text/plain": [
       "460"
      ]
     },
     "execution_count": 8,
     "metadata": {},
     "output_type": "execute_result"
    }
   ],
   "source": [
    "len([rule for rule in rules if valid1(rule)])"
   ]
  },
  {
   "cell_type": "code",
   "execution_count": 9,
   "metadata": {},
   "outputs": [
    {
     "data": {
      "text/plain": [
       "251"
      ]
     },
     "execution_count": 9,
     "metadata": {},
     "output_type": "execute_result"
    }
   ],
   "source": [
    "len([rule for rule in rules if valid2(rule)])"
   ]
  },
  {
   "cell_type": "markdown",
   "metadata": {},
   "source": [
    "### Day 3"
   ]
  },
  {
   "cell_type": "code",
   "execution_count": 10,
   "metadata": {},
   "outputs": [],
   "source": [
    "def load_input3(fname):\n",
    "    with open(fname) as inf:\n",
    "        return [x.strip() for x in inf]\n",
    "def ntrees1(lines, right, down):\n",
    "    R = len(lines)\n",
    "    C = len(lines[0])\n",
    "    r = c = 0\n",
    "    nt = 0\n",
    "    while r < R:\n",
    "        if lines[r][c] == '#':\n",
    "            nt += 1\n",
    "        c = (c + right)%C\n",
    "        r += down\n",
    "    return nt"
   ]
  },
  {
   "cell_type": "code",
   "execution_count": 11,
   "metadata": {},
   "outputs": [],
   "source": [
    "lines = load_input3('/home/marek/Downloads/input_day3.txt')"
   ]
  },
  {
   "cell_type": "code",
   "execution_count": 12,
   "metadata": {},
   "outputs": [
    {
     "data": {
      "text/plain": [
       "187"
      ]
     },
     "execution_count": 12,
     "metadata": {},
     "output_type": "execute_result"
    }
   ],
   "source": [
    "ntrees1(lines, 3, 1)"
   ]
  },
  {
   "cell_type": "code",
   "execution_count": 13,
   "metadata": {},
   "outputs": [
    {
     "data": {
      "text/plain": [
       "4723283400"
      ]
     },
     "execution_count": 13,
     "metadata": {},
     "output_type": "execute_result"
    }
   ],
   "source": [
    "ntrees1(lines, 1, 1)*ntrees1(lines, 3, 1)*ntrees1(lines, 5, 1)*ntrees1(lines, 7, 1)*ntrees1(lines, 1, 2)"
   ]
  },
  {
   "cell_type": "markdown",
   "metadata": {},
   "source": [
    "### Day 4"
   ]
  },
  {
   "cell_type": "code",
   "execution_count": 14,
   "metadata": {},
   "outputs": [],
   "source": [
    "def load_input4(fname):\n",
    "    r = []\n",
    "    with open(fname) as inf:\n",
    "        cp = {}\n",
    "        for line in inf:\n",
    "            line = line.strip()\n",
    "            if not line:\n",
    "                if cp:\n",
    "                    r.append(cp)\n",
    "                    cp = {}\n",
    "                    continue\n",
    "            fields = line.split()\n",
    "            for f in fields:\n",
    "                k, v = f.split(':')\n",
    "                cp[k] = v\n",
    "        if cp:\n",
    "            r.append(cp)\n",
    "    return r\n",
    "def valid1(cp):\n",
    "    req = {'byr', 'iyr', 'eyr', 'hgt', 'hcl', 'ecl', 'pid'}\n",
    "    pres = set(cp.keys())\n",
    "    return req.issubset(pres)\n",
    "# ouch...\n",
    "def valid_byr(v):\n",
    "    return len(v) == 4 and v.isdigit() and 1920 <= int(v) <= 2002\n",
    "def valid_iyr(v):\n",
    "    return len(v) == 4 and v.isdigit() and 2010 <= int(v) <= 2020\n",
    "def valid_eyr(v):\n",
    "    return len(v) == 4 and v.isdigit() and 2020 <= int(v) <= 2030\n",
    "def valid_hgt(v):\n",
    "    if v.endswith('cm'):\n",
    "        return v[:-2].isdigit() and 150 <= int(v[:-2]) <= 193\n",
    "    if v.endswith('in'):\n",
    "        return v[:-2].isdigit() and 59 <= int(v[:-2]) <= 76\n",
    "    return False\n",
    "def valid_hcl(v):\n",
    "    return len(v) == 7 and v.startswith('#') and set(v[1:]).issubset('0123456789abcdef')\n",
    "def valid_ecl(v):\n",
    "    return v in {'amb', 'blu', 'brn', 'gry', 'grn', 'hzl', 'oth'}\n",
    "def valid_pid(v):\n",
    "    return len(v) == 9 and v.isdigit()\n",
    "dispatch = {'byr': valid_byr, 'iyr': valid_iyr, 'eyr': valid_eyr, 'hgt': valid_hgt, 'hcl': valid_hcl,\n",
    "            'ecl': valid_ecl, 'pid': valid_pid}\n",
    "def valid2(cp):\n",
    "    if not valid1(cp):\n",
    "        return False\n",
    "    return all(d(cp[k]) for k, d in dispatch.items())"
   ]
  },
  {
   "cell_type": "code",
   "execution_count": 15,
   "metadata": {},
   "outputs": [],
   "source": [
    "pp = load_input4('/home/marek/Downloads/input_day4.txt')"
   ]
  },
  {
   "cell_type": "code",
   "execution_count": 16,
   "metadata": {},
   "outputs": [
    {
     "data": {
      "text/plain": [
       "264"
      ]
     },
     "execution_count": 16,
     "metadata": {},
     "output_type": "execute_result"
    }
   ],
   "source": [
    "len([p for p in pp if valid1(p)])"
   ]
  },
  {
   "cell_type": "code",
   "execution_count": 17,
   "metadata": {},
   "outputs": [
    {
     "data": {
      "text/plain": [
       "224"
      ]
     },
     "execution_count": 17,
     "metadata": {},
     "output_type": "execute_result"
    }
   ],
   "source": [
    "len([p for p in pp if valid2(p)])"
   ]
  },
  {
   "cell_type": "markdown",
   "metadata": {},
   "source": [
    "### Day 5"
   ]
  },
  {
   "cell_type": "code",
   "execution_count": 18,
   "metadata": {},
   "outputs": [],
   "source": [
    "def load_input5(fname):\n",
    "    with open(fname) as inf:\n",
    "        return [x.strip() for x in inf]\n",
    "def get_id(p):\n",
    "    lo = 0; hi = 127\n",
    "    for c in p[:7]:\n",
    "        m = (lo + hi)//2\n",
    "        if c == 'F':\n",
    "            hi = m\n",
    "        else:\n",
    "            lo = m + 1\n",
    "    row = lo\n",
    "    lo = 0; hi = 7\n",
    "    for c in p[7:]:\n",
    "        m = (lo + hi)//2\n",
    "        if c == 'L':\n",
    "            hi = m\n",
    "        else:\n",
    "            lo = m + 1\n",
    "    return row*8 + lo"
   ]
  },
  {
   "cell_type": "code",
   "execution_count": 19,
   "metadata": {},
   "outputs": [],
   "source": [
    "bps = load_input5('/home/marek/Downloads/input_day5.txt')"
   ]
  },
  {
   "cell_type": "code",
   "execution_count": 20,
   "metadata": {},
   "outputs": [
    {
     "data": {
      "text/plain": [
       "935"
      ]
     },
     "execution_count": 20,
     "metadata": {},
     "output_type": "execute_result"
    }
   ],
   "source": [
    "max(get_id(b) for b in bps)"
   ]
  },
  {
   "cell_type": "code",
   "execution_count": 21,
   "metadata": {},
   "outputs": [
    {
     "name": "stdout",
     "output_type": "stream",
     "text": [
      "743\n"
     ]
    }
   ],
   "source": [
    "present=set(get_id(b) for b in bps)\n",
    "missing=set(range(936)).difference(present)\n",
    "for m in missing:\n",
    "    if m - 1 in present and m + 1 in present:\n",
    "        print(m)\n",
    "        break"
   ]
  },
  {
   "cell_type": "markdown",
   "metadata": {},
   "source": [
    "### Day 6"
   ]
  },
  {
   "cell_type": "code",
   "execution_count": 22,
   "metadata": {},
   "outputs": [],
   "source": [
    "def load_input6(fname):\n",
    "    with open(fname) as inf:\n",
    "        r = []\n",
    "        cp = []\n",
    "        for line in inf:\n",
    "            line = line.strip()\n",
    "            if not line:\n",
    "                if cp:\n",
    "                    r.append(cp)\n",
    "                    cp = []\n",
    "                continue\n",
    "            cp.append(set(line))\n",
    "        if cp:\n",
    "            r.append(cp)\n",
    "    return r\n",
    "def count1(cp):\n",
    "    return len(set.union(*cp))\n",
    "def count2(cp):\n",
    "    return len(set.intersection(*cp))"
   ]
  },
  {
   "cell_type": "code",
   "execution_count": 23,
   "metadata": {},
   "outputs": [],
   "source": [
    "ques = load_input6('/home/marek/Downloads/input_day6.txt')"
   ]
  },
  {
   "cell_type": "code",
   "execution_count": 24,
   "metadata": {},
   "outputs": [
    {
     "data": {
      "text/plain": [
       "6742"
      ]
     },
     "execution_count": 24,
     "metadata": {},
     "output_type": "execute_result"
    }
   ],
   "source": [
    "sum(count1(cp) for cp in ques)"
   ]
  },
  {
   "cell_type": "code",
   "execution_count": 25,
   "metadata": {},
   "outputs": [
    {
     "data": {
      "text/plain": [
       "3447"
      ]
     },
     "execution_count": 25,
     "metadata": {},
     "output_type": "execute_result"
    }
   ],
   "source": [
    "sum(count2(cp) for cp in ques)"
   ]
  },
  {
   "cell_type": "markdown",
   "metadata": {},
   "source": [
    "### Day 7"
   ]
  },
  {
   "cell_type": "code",
   "execution_count": 26,
   "metadata": {},
   "outputs": [],
   "source": [
    "def load_input7(fname):\n",
    "    with open(fname) as inf:\n",
    "        return [x.strip() for x in inf]\n",
    "    \n",
    "# Ouch, that's tedious...\n",
    "@attr.s\n",
    "class Bag:\n",
    "    parents = attr.ib()\n",
    "    children = attr.ib()\n",
    "    name = attr.ib()\n",
    "\n",
    "def split_sentence(s):\n",
    "    s = s.lower().replace(\",\", \"\").replace(\".\", \"\").replace(\"bags\", \"bag\").replace('contains', 'contain')\n",
    "    fields = s.split()\n",
    "    if len(fields) < 7 or fields[3] != 'contain':\n",
    "        return None\n",
    "    if fields[2] != 'bag':\n",
    "        return None\n",
    "    parent_bag = '{} {}'.format(fields[0], fields[1])\n",
    "    child_bags = []\n",
    "    i = 4\n",
    "    while i + 2 < len(fields):\n",
    "        if fields[i] == 'no':\n",
    "            if fields[i + 2] != 'bag':\n",
    "                return None\n",
    "            i += 3\n",
    "            continue\n",
    "        if i + 3 >= len(fields) or not fields[i].isdigit() or fields[i + 3] != 'bag':\n",
    "            return None\n",
    "        nc = int(fields[i])\n",
    "        child_bag = '{} {}'.format(fields[i + 1], fields[i + 2])\n",
    "        child_bags.append((nc, child_bag))\n",
    "        i += 4\n",
    "    return parent_bag, child_bags\n",
    "\n",
    "def create_bag_map(lines):\n",
    "    bag_map = {}\n",
    "    for line in lines:\n",
    "        line=line.strip()\n",
    "        if not line:\n",
    "            continue\n",
    "        parent_bag, child_bags = split_sentence(line.strip())\n",
    "        try:\n",
    "            p_bag = bag_map[parent_bag]\n",
    "        except KeyError:\n",
    "            p_bag = bag_map[parent_bag] = Bag(set(), set(), parent_bag)\n",
    "        for nc, child_bag in child_bags:\n",
    "            try:\n",
    "                c_bag = bag_map[child_bag]\n",
    "            except KeyError:\n",
    "                c_bag = bag_map[child_bag] = Bag(set(), set(), child_bag)\n",
    "            c_bag.parents.add(parent_bag)\n",
    "            p_bag.children.add((nc, child_bag))\n",
    "    return bag_map\n",
    "\n",
    "def solve1(bag_map):\n",
    "    bg = bag_map['shiny gold']\n",
    "    visited = set()\n",
    "    to_process = deque()\n",
    "    to_process.extend(bg.parents)\n",
    "    while to_process:\n",
    "        bg_name = to_process.popleft()\n",
    "        if bg_name in visited:\n",
    "            continue\n",
    "        visited.add(bg_name)\n",
    "        bg = bag_map[bg_name]\n",
    "        to_process.extend(bg.parents)\n",
    "    return visited\n",
    "\n",
    "def solve2(starting_bag, bag_map):\n",
    "    bg = bag_map[starting_bag]\n",
    "    tot = 1\n",
    "    for nc, child_bag in bg.children:\n",
    "        tot += nc*solve2(child_bag, bag_map)\n",
    "    return tot"
   ]
  },
  {
   "cell_type": "code",
   "execution_count": 27,
   "metadata": {},
   "outputs": [],
   "source": [
    "bags = create_bag_map(load_input7('/home/marek/Downloads/input_day7.txt'))"
   ]
  },
  {
   "cell_type": "code",
   "execution_count": 28,
   "metadata": {},
   "outputs": [
    {
     "data": {
      "text/plain": [
       "287"
      ]
     },
     "execution_count": 28,
     "metadata": {},
     "output_type": "execute_result"
    }
   ],
   "source": [
    "len(solve1(bags))"
   ]
  },
  {
   "cell_type": "code",
   "execution_count": 29,
   "metadata": {},
   "outputs": [
    {
     "data": {
      "text/plain": [
       "48160"
      ]
     },
     "execution_count": 29,
     "metadata": {},
     "output_type": "execute_result"
    }
   ],
   "source": [
    "solve2('shiny gold', bags) - 1"
   ]
  },
  {
   "cell_type": "markdown",
   "metadata": {},
   "source": [
    "### Day 8"
   ]
  },
  {
   "cell_type": "code",
   "execution_count": 30,
   "metadata": {},
   "outputs": [],
   "source": [
    "def load_input8(fname):\n",
    "    with open(fname) as inf:\n",
    "        return [x.strip() for x in inf]\n",
    "    \n",
    "@attr.s\n",
    "class Inst:\n",
    "    op = attr.ib()\n",
    "    arg = attr.ib()\n",
    "    visited = attr.ib(default=0)\n",
    "    \n",
    "def execute(prog):\n",
    "    for p in prog:\n",
    "        p.visited = 0\n",
    "    pc = 0\n",
    "    acc = 0\n",
    "    while prog[pc].visited == 0:\n",
    "        prog[pc].visited += 1\n",
    "        if prog[pc].op == 'nop':\n",
    "            pc += 1\n",
    "            continue\n",
    "        if prog[pc].op == \"acc\":\n",
    "            acc += prog[pc].arg\n",
    "            pc += 1\n",
    "            continue\n",
    "        if prog[pc].op == \"jmp\":\n",
    "            pc += prog[pc].arg\n",
    "            continue\n",
    "        raise Exception('Unknown instruction {}'.format(prog[pc]))\n",
    "    return acc\n",
    "\n",
    "def extract(lines):\n",
    "    prog = []\n",
    "    for line in lines:\n",
    "        line = line.strip()\n",
    "        if not line:\n",
    "            continue\n",
    "        op, arg = line.split()\n",
    "        prog.append(Inst(op, int(arg), 0))\n",
    "    return prog"
   ]
  },
  {
   "cell_type": "code",
   "execution_count": 31,
   "metadata": {},
   "outputs": [],
   "source": [
    "prog = extract(load_input8('/home/marek/Downloads/input_day8.txt'))"
   ]
  },
  {
   "cell_type": "code",
   "execution_count": 32,
   "metadata": {},
   "outputs": [
    {
     "data": {
      "text/plain": [
       "1941"
      ]
     },
     "execution_count": 32,
     "metadata": {},
     "output_type": "execute_result"
    }
   ],
   "source": [
    "execute(prog)"
   ]
  },
  {
   "cell_type": "code",
   "execution_count": 33,
   "metadata": {},
   "outputs": [],
   "source": [
    "def execute2(prog):\n",
    "    for p in prog:\n",
    "        p.visited = 0\n",
    "    pc = 0\n",
    "    acc = 0\n",
    "    while pc < len(prog):\n",
    "        if prog[pc].visited > 0:\n",
    "            return None\n",
    "        prog[pc].visited += 1\n",
    "        if prog[pc].op == 'nop':\n",
    "            pc += 1\n",
    "            continue\n",
    "        if prog[pc].op == \"acc\":\n",
    "            acc += prog[pc].arg\n",
    "            pc += 1\n",
    "            continue\n",
    "        if prog[pc].op == \"jmp\":\n",
    "            pc += prog[pc].arg\n",
    "            continue\n",
    "        raise Exception('Unknown instruction {}'.format(prog[pc]))\n",
    "    return acc\n",
    "\n",
    "def simulate(prog):\n",
    "    for p in prog:\n",
    "        if p.op == 'acc':\n",
    "            continue\n",
    "        if p.op == 'nop':\n",
    "            p.op = 'jmp'\n",
    "            v = execute2(prog)\n",
    "            if v is not None:\n",
    "                return v\n",
    "            p.op = 'nop'\n",
    "            continue\n",
    "        p.op = 'nop'\n",
    "        v = execute2(prog)\n",
    "        if v is not None:\n",
    "            return v\n",
    "        p.op = 'jmp'\n",
    "    return None"
   ]
  },
  {
   "cell_type": "code",
   "execution_count": 34,
   "metadata": {},
   "outputs": [
    {
     "data": {
      "text/plain": [
       "2096"
      ]
     },
     "execution_count": 34,
     "metadata": {},
     "output_type": "execute_result"
    }
   ],
   "source": [
    "simulate(prog)"
   ]
  },
  {
   "cell_type": "markdown",
   "metadata": {},
   "source": [
    "### Day 9"
   ]
  },
  {
   "cell_type": "code",
   "execution_count": 35,
   "metadata": {},
   "outputs": [],
   "source": [
    "def load_input9(fname):\n",
    "    with open(fname) as inf:\n",
    "        return [int(x.strip()) for x in inf]\n",
    "    \n",
    "def all_sums(nums):\n",
    "    r=set()\n",
    "    for i in range(len(nums)):\n",
    "        for j in range(i + 1, len(nums)):\n",
    "            r.add(nums[i]+nums[j])\n",
    "    return r\n",
    "\n",
    "def first_bad(inplist, l):\n",
    "    for i in range(l + 1, len(inplist)):\n",
    "        s = all_sums(inplist[i - l - 1:i])\n",
    "        if inplist[i] not in s:\n",
    "            return inplist[i]\n",
    "    return None"
   ]
  },
  {
   "cell_type": "code",
   "execution_count": 36,
   "metadata": {},
   "outputs": [],
   "source": [
    "inplist = load_input9('/home/marek/Downloads/input_day9.txt')"
   ]
  },
  {
   "cell_type": "code",
   "execution_count": 37,
   "metadata": {},
   "outputs": [
    {
     "data": {
      "text/plain": [
       "29221323"
      ]
     },
     "execution_count": 37,
     "metadata": {},
     "output_type": "execute_result"
    }
   ],
   "source": [
    "first_bad(inplist, 25)"
   ]
  },
  {
   "cell_type": "code",
   "execution_count": 38,
   "metadata": {},
   "outputs": [],
   "source": [
    "def preproc(nums):\n",
    "    r = [0]\n",
    "    for n in nums:\n",
    "        x = r[-1] + n\n",
    "        r.append(x)\n",
    "    return r\n",
    "\n",
    "def getsum(prnums, i, j):\n",
    "    return prnums[j + 1] - prnums[i]\n",
    "\n",
    "def find2(nums, x):\n",
    "    pr_nums = preproc(nums)\n",
    "    for i in range(len(nums)):\n",
    "        for j in range(i + 1, len(nums)):\n",
    "            if getsum(pr_nums, i, j) == x:\n",
    "                return min(nums[i:j+1]) + max(nums[i:j+1])\n",
    "    return None"
   ]
  },
  {
   "cell_type": "code",
   "execution_count": 39,
   "metadata": {},
   "outputs": [
    {
     "data": {
      "text/plain": [
       "4389369"
      ]
     },
     "execution_count": 39,
     "metadata": {},
     "output_type": "execute_result"
    }
   ],
   "source": [
    "find2(inplist, 29221323)"
   ]
  },
  {
   "cell_type": "markdown",
   "metadata": {},
   "source": [
    "### Day 10"
   ]
  },
  {
   "cell_type": "code",
   "execution_count": 40,
   "metadata": {},
   "outputs": [],
   "source": [
    "def load_input10(fname):\n",
    "    with open(fname) as inf:\n",
    "        return [int(x.strip()) for x in inf]\n",
    "    \n",
    "def jolts1(nums):\n",
    "    nums.append(0)\n",
    "    nums.sort()\n",
    "    x = nums[-1] + 3\n",
    "    nums.append(x)\n",
    "    d1 = d3 = 0\n",
    "    for i in range(1, len(nums)):\n",
    "        diff = nums[i]-nums[i - 1]\n",
    "        if diff == 1:\n",
    "            d1 += 1\n",
    "        elif diff == 3:\n",
    "            d3 += 1\n",
    "    return d1*d3"
   ]
  },
  {
   "cell_type": "code",
   "execution_count": 41,
   "metadata": {},
   "outputs": [],
   "source": [
    "nums = load_input10('/home/marek/Downloads/input_day10.txt')"
   ]
  },
  {
   "cell_type": "code",
   "execution_count": 42,
   "metadata": {},
   "outputs": [
    {
     "data": {
      "text/plain": [
       "2040"
      ]
     },
     "execution_count": 42,
     "metadata": {},
     "output_type": "execute_result"
    }
   ],
   "source": [
    "jolts1(nums.copy())"
   ]
  },
  {
   "cell_type": "code",
   "execution_count": 43,
   "metadata": {},
   "outputs": [],
   "source": [
    "def jolts2(nums):\n",
    "    nums.append(0)\n",
    "    nums.sort()\n",
    "    x = nums[-1] + 3\n",
    "    nums.append(x)\n",
    "    n = len(nums)\n",
    "    counts = [0]*n\n",
    "    counts[n - 1] = 1\n",
    "    for i in range(n - 2, -1, -1):\n",
    "        j = i + 1\n",
    "        tot = 0\n",
    "        while j < n and nums[j] - nums[i] <= 3:\n",
    "            tot += counts[j]\n",
    "            j += 1\n",
    "        counts[i] = tot\n",
    "    return counts[0]"
   ]
  },
  {
   "cell_type": "code",
   "execution_count": 44,
   "metadata": {},
   "outputs": [
    {
     "data": {
      "text/plain": [
       "28346956187648"
      ]
     },
     "execution_count": 44,
     "metadata": {},
     "output_type": "execute_result"
    }
   ],
   "source": [
    "jolts2(nums.copy())"
   ]
  },
  {
   "cell_type": "markdown",
   "metadata": {},
   "source": [
    "### Day 11"
   ]
  },
  {
   "cell_type": "code",
   "execution_count": 45,
   "metadata": {},
   "outputs": [],
   "source": [
    "def load_input11(fname):\n",
    "    with open(fname) as inf:\n",
    "        return [x.strip() for x in inf]\n",
    "\n",
    "dr = [-1, -1, -1,  0, 0,  1, 1, 1]\n",
    "dc = [-1,  0,  1, -1, 1, -1, 0, 1]\n",
    "\n",
    "def getv(lines, r, c):\n",
    "    R = len(lines)\n",
    "    C = len(lines[0])\n",
    "    if 0 <= r < R and 0 <= c < C:\n",
    "        return lines[r][c]\n",
    "    return None\n",
    "\n",
    "def deg(lines, r, c):\n",
    "    if lines[r][c] != 'L' and lines[r][c] != '#':\n",
    "        return -1\n",
    "    d = 0\n",
    "    for i in range(len(dr)):\n",
    "        if getv(lines, r + dr[i], c + dc[i]) == '#':\n",
    "            d += 1\n",
    "    return d\n",
    "\n",
    "def deg2(lines, r, c):\n",
    "    if lines[r][c] != 'L' and lines[r][c] != '#':\n",
    "        return -1\n",
    "    d = 0\n",
    "    for i in range(len(dr)):\n",
    "        nr = r + dr[i]\n",
    "        nc = c + dc[i]\n",
    "        while True:\n",
    "            xx = getv(lines, nr, nc)\n",
    "            if xx is None or xx == 'L':\n",
    "                break\n",
    "            if xx == '#':\n",
    "                d += 1\n",
    "                break\n",
    "            nr += dr[i]\n",
    "            nc += dc[i]\n",
    "    return d\n",
    "\n",
    "def one_step(lines, deg, b):\n",
    "    R = len(lines)\n",
    "    C = len(lines[0])\n",
    "    ng = []\n",
    "    for r in range(R):\n",
    "        ng.append(['.']*C)\n",
    "    for r in range(R):\n",
    "        for c in range(C):\n",
    "            d = deg(lines, r, c)\n",
    "            if d < 0:\n",
    "                continue\n",
    "            if d == 0 and lines[r][c] == 'L':\n",
    "                ng[r][c] = '#'\n",
    "                continue\n",
    "            if d >= b and lines[r][c] == '#':\n",
    "                ng[r][c] = 'L'\n",
    "                continue\n",
    "            ng[r][c] = lines[r][c]\n",
    "    return ng\n",
    "\n",
    "def evol(lines, deg, b):\n",
    "    while True:\n",
    "        ng = one_step(lines, deg, b)\n",
    "        if ng == lines:\n",
    "            return ng\n",
    "        lines = ng\n",
    "        \n",
    "def score(lines):\n",
    "    return sum(l.count('#') for l in lines)"
   ]
  },
  {
   "cell_type": "code",
   "execution_count": 46,
   "metadata": {},
   "outputs": [],
   "source": [
    "lines = load_input11('/home/marek/Downloads/input_day11.txt')"
   ]
  },
  {
   "cell_type": "code",
   "execution_count": 47,
   "metadata": {},
   "outputs": [
    {
     "data": {
      "text/plain": [
       "2338"
      ]
     },
     "execution_count": 47,
     "metadata": {},
     "output_type": "execute_result"
    }
   ],
   "source": [
    "score(evol(lines, deg, 4))"
   ]
  },
  {
   "cell_type": "code",
   "execution_count": 48,
   "metadata": {},
   "outputs": [
    {
     "data": {
      "text/plain": [
       "2134"
      ]
     },
     "execution_count": 48,
     "metadata": {},
     "output_type": "execute_result"
    }
   ],
   "source": [
    "score(evol(lines, deg2, 5))"
   ]
  },
  {
   "cell_type": "markdown",
   "metadata": {},
   "source": [
    "### Day 12"
   ]
  },
  {
   "cell_type": "code",
   "execution_count": 49,
   "metadata": {},
   "outputs": [],
   "source": [
    "def load_input12(fname):\n",
    "    with open(fname) as inf:\n",
    "        return [x.strip() for x in inf]\n",
    "    \n",
    "dirs = [[1, 0], [0, -1], [-1, 0], [0, 1]]\n",
    "def tright(cd, deg):\n",
    "    d = deg//90\n",
    "    return (cd + d)%4\n",
    "def tleft(cd, deg):\n",
    "    d = deg//90\n",
    "    return (cd + 4 - d)%4\n",
    "def traverse(lines):\n",
    "    dsp = {'F': lambda x, y, cd: (x + dirs[cd][0]*d, y + dirs[cd][1]*d, cd),\n",
    "           'N': lambda x, y, cd: (x, y + d, cd),\n",
    "           'S': lambda x, y, cd: (x, y - d, cd),\n",
    "           'E': lambda x, y, cd: (x + d, y, cd),\n",
    "           'W': lambda x, y, cd: (x - d, y, cd),\n",
    "           'L': lambda x, y, cd: (x, y, tleft(cd, d)),\n",
    "           'R': lambda x, y, cd: (x, y, tright(cd, d))}\n",
    "    cd = 0\n",
    "    x = y = 0\n",
    "    for line in lines:\n",
    "        d = int(line[1:])\n",
    "        x, y, cd = dsp[line[0]](x, y, cd)\n",
    "    return abs(x) + abs(y)"
   ]
  },
  {
   "cell_type": "code",
   "execution_count": 50,
   "metadata": {},
   "outputs": [],
   "source": [
    "lines = load_input12('/home/marek/Downloads/input_day12.txt')"
   ]
  },
  {
   "cell_type": "code",
   "execution_count": 51,
   "metadata": {},
   "outputs": [
    {
     "data": {
      "text/plain": [
       "521"
      ]
     },
     "execution_count": 51,
     "metadata": {},
     "output_type": "execute_result"
    }
   ],
   "source": [
    "traverse(lines)"
   ]
  },
  {
   "cell_type": "code",
   "execution_count": 52,
   "metadata": {},
   "outputs": [],
   "source": [
    "def wpleft(wpx, wpy):\n",
    "    return -wpy, wpx\n",
    "\n",
    "def wpright(wpx, wpy):\n",
    "    return wpy, -wpx\n",
    "\n",
    "def rotleft(wpx, wpy, deg):\n",
    "    for _ in range(deg//90):\n",
    "        wpx, wpy = wpleft(wpx, wpy)\n",
    "    return wpx, wpy\n",
    "\n",
    "def rotright(wpx, wpy, deg):\n",
    "    for _ in range(deg//90):\n",
    "        wpx, wpy = wpright(wpx, wpy)\n",
    "    return wpx, wpy\n",
    "\n",
    "def traverse2(lines):\n",
    "    x = y = 0\n",
    "    wpx = 10\n",
    "    wpy = 1\n",
    "    dsp = {'F': lambda x, y, wpx, wpy: (x + wpx*d, y + wpy*d, wpx, wpy),\n",
    "           'N': lambda x, y, wpx, wpy: (x, y, wpx, wpy + d),\n",
    "           'S': lambda x, y, wpx, wpy: (x, y, wpx, wpy - d),\n",
    "           'E': lambda x, y, wpx, wpy: (x, y, wpx + d, wpy),\n",
    "           'W': lambda x, y, wpx, wpy: (x, y, wpx - d, wpy),\n",
    "           'L': lambda x, y, wpx, wpy: (x, y, *rotleft(wpx, wpy, d)),\n",
    "           'R': lambda x, y, wpx, wpy: (x, y, *rotright(wpx, wpy, d))}\n",
    "    for line in lines:\n",
    "        d = int(line[1:])\n",
    "        x, y, wpx, wpy = dsp[line[0]](x, y, wpx, wpy)\n",
    "    return abs(x) + abs(y)"
   ]
  },
  {
   "cell_type": "code",
   "execution_count": 53,
   "metadata": {},
   "outputs": [
    {
     "data": {
      "text/plain": [
       "22848"
      ]
     },
     "execution_count": 53,
     "metadata": {},
     "output_type": "execute_result"
    }
   ],
   "source": [
    "traverse2(lines)"
   ]
  },
  {
   "cell_type": "markdown",
   "metadata": {},
   "source": [
    "### Day 13"
   ]
  },
  {
   "cell_type": "code",
   "execution_count": 54,
   "metadata": {},
   "outputs": [],
   "source": [
    "def load_input13(fname):\n",
    "    with open(fname) as inf:\n",
    "        ts = int(inf.readline().strip())\n",
    "        bus_ids = inf.readline().strip().split(',')\n",
    "    return ts, bus_ids\n",
    "        \n",
    "def solve1(ts, busses):\n",
    "    best_id = None\n",
    "    best_w = None\n",
    "    for bid in busses:\n",
    "        if bid == 'x':\n",
    "            continue\n",
    "        b = int(bid)\n",
    "        if ts%b == 0:\n",
    "            return 0\n",
    "        ts_b = (ts//b + 1)*b - ts\n",
    "        if best_w is None or best_w > ts_b:\n",
    "            best_w = ts_b\n",
    "            best_id = b\n",
    "    return best_id*best_w"
   ]
  },
  {
   "cell_type": "code",
   "execution_count": 55,
   "metadata": {},
   "outputs": [],
   "source": [
    "ts, busses = load_input13('/home/marek/Downloads/input_day13.txt')"
   ]
  },
  {
   "cell_type": "code",
   "execution_count": 56,
   "metadata": {},
   "outputs": [
    {
     "data": {
      "text/plain": [
       "2947"
      ]
     },
     "execution_count": 56,
     "metadata": {},
     "output_type": "execute_result"
    }
   ],
   "source": [
    "solve1(ts, busses)"
   ]
  },
  {
   "cell_type": "code",
   "execution_count": 57,
   "metadata": {},
   "outputs": [],
   "source": [
    "def euclid_inverse(a, n):\n",
    "    t = 0;     newt = 1\n",
    "    r = n;     newr = a\n",
    "    while newr != 0:\n",
    "        quotient = r//newr\n",
    "        t, newt = newt, t - quotient*newt \n",
    "        r, newr = newr, r - quotient*newr\n",
    "    if r > 1:\n",
    "        raise Exception(\"{} is not invertible mod {}\".format(a, n))\n",
    "    if t < 0:\n",
    "        t += n\n",
    "    return t\n",
    "\n",
    "\n",
    "# Chinese Remainder Theorem\n",
    "def CRT(av, nv):\n",
    "    s = 0\n",
    "    N = 1\n",
    "    for n in nv:\n",
    "        N *= n\n",
    "    for a, n in zip(av, nv):\n",
    "        p = N//n\n",
    "        s += a*euclid_inverse(p, n)*p\n",
    "    return s%N\n",
    "\n",
    "\n",
    "def solve2(busses):\n",
    "    av = []\n",
    "    nv = []\n",
    "    for i, b in enumerate(busses):\n",
    "        if b == 'x':\n",
    "            continue\n",
    "        av.append(-i)\n",
    "        nv.append(int(b))\n",
    "    return CRT(av, nv)"
   ]
  },
  {
   "cell_type": "code",
   "execution_count": 58,
   "metadata": {},
   "outputs": [
    {
     "data": {
      "text/plain": [
       "526090562196173"
      ]
     },
     "execution_count": 58,
     "metadata": {},
     "output_type": "execute_result"
    }
   ],
   "source": [
    "solve2(busses)"
   ]
  },
  {
   "cell_type": "markdown",
   "metadata": {},
   "source": [
    "### Day 14"
   ]
  },
  {
   "cell_type": "code",
   "execution_count": 59,
   "metadata": {},
   "outputs": [],
   "source": [
    "def load_input14(fname):\n",
    "    with open(fname) as inf:\n",
    "        return [x.strip() for x in inf]\n",
    "\n",
    "def solve1(lines):\n",
    "    and_mask = 2**36-1\n",
    "    or_mask = 0\n",
    "    mem = {}\n",
    "    for line in lines:\n",
    "        line = line.strip()\n",
    "        if not line:\n",
    "            continue\n",
    "        k, v = [x.strip() for x in line.strip().split('=')]\n",
    "        if k == 'mask':\n",
    "            and_mask = int(v.replace('X', '1'), 2)\n",
    "            or_mask = int(v.replace('X', '0'), 2)\n",
    "            continue\n",
    "        if k.startswith('mem['):\n",
    "            loc = int(k[4:-1])\n",
    "            vv = int(v)\n",
    "            mem[loc] = ((vv&and_mask)|or_mask)\n",
    "    return sum(v for v in mem.values())"
   ]
  },
  {
   "cell_type": "code",
   "execution_count": 60,
   "metadata": {},
   "outputs": [],
   "source": [
    "lines = load_input14('/home/marek/Downloads/input_day14.txt')"
   ]
  },
  {
   "cell_type": "code",
   "execution_count": 61,
   "metadata": {},
   "outputs": [
    {
     "data": {
      "text/plain": [
       "14839536808842"
      ]
     },
     "execution_count": 61,
     "metadata": {},
     "output_type": "execute_result"
    }
   ],
   "source": [
    "solve1(lines)"
   ]
  },
  {
   "cell_type": "code",
   "execution_count": 62,
   "metadata": {},
   "outputs": [],
   "source": [
    "def mask_intersection(a1, a2):\n",
    "    if not a1 or not a2:\n",
    "        return ''\n",
    "    r = []\n",
    "    for a, b in zip(a1, a2):\n",
    "        if a == 'X':\n",
    "            r.append(b)\n",
    "            continue\n",
    "        if b == 'X':\n",
    "            r.append(a)\n",
    "            continue\n",
    "        if a == b:\n",
    "            r.append(a)\n",
    "            continue\n",
    "        return ''\n",
    "    return ''.join(r)\n",
    "\n",
    "def intersection(rl):\n",
    "    if not rl:\n",
    "        return ''\n",
    "    v = rl[0]\n",
    "    for vv in rl[1:]:\n",
    "        v = mask_intersection(v, vv)\n",
    "    return v\n",
    "\n",
    "def count(mask):\n",
    "    if not mask:\n",
    "        return 0\n",
    "    return 2**mask.count('X')\n",
    "\n",
    "@attr.s\n",
    "class Set:\n",
    "    base = attr.ib()\n",
    "    val = attr.ib()\n",
    "    removed = attr.ib(default=attr.Factory(set))\n",
    "    \n",
    "    # exclusion-inclusion principle\n",
    "    def num_elements(self):\n",
    "        tot = count(self.base)\n",
    "        m = -1\n",
    "        i = 1\n",
    "        for i in range(1, len(self.removed) + 1):\n",
    "            for comb in combinations(self.removed, i):\n",
    "                cnt = count(intersection(comb))\n",
    "                tot += m*cnt\n",
    "            m = -m\n",
    "        return tot\n",
    "    \n",
    "    def value(self):\n",
    "        return self.num_elements()*self.val\n",
    "    \n",
    "def apply_mask(m, addr):\n",
    "    r = []\n",
    "    for a, b in zip(m, addr):\n",
    "        if a != '0':\n",
    "            r.append(a)\n",
    "            continue\n",
    "        r.append(b)\n",
    "    return ''.join(r)\n",
    "\n",
    "def run(lines):\n",
    "    mask = '0'*36\n",
    "    sets = {}\n",
    "    for line in lines:\n",
    "        line = line.strip()\n",
    "        if not line:\n",
    "            continue\n",
    "        k, v = [x.strip() for x in line.strip().split('=')]\n",
    "        if k == 'mask':\n",
    "            mask = v\n",
    "            continue\n",
    "        if k.startswith('mem['):\n",
    "            loc = int(k[4:-1])\n",
    "            vv = int(v)\n",
    "            loc = apply_mask(mask, ('%36s' % (bin(loc)[2:])).replace(' ', '0'))\n",
    "            for s in sets.values():\n",
    "                ints = mask_intersection(s.base, loc)\n",
    "                if ints:\n",
    "                    s.removed.add(ints)\n",
    "            sets[loc] = Set(loc, vv)\n",
    "    return sum(s.value() for s in sets.values())"
   ]
  },
  {
   "cell_type": "code",
   "execution_count": 63,
   "metadata": {},
   "outputs": [
    {
     "data": {
      "text/plain": [
       "4215284199669"
      ]
     },
     "execution_count": 63,
     "metadata": {},
     "output_type": "execute_result"
    }
   ],
   "source": [
    "run(lines)"
   ]
  },
  {
   "cell_type": "markdown",
   "metadata": {},
   "source": [
    "### Day 15"
   ]
  },
  {
   "cell_type": "code",
   "execution_count": 1,
   "metadata": {},
   "outputs": [],
   "source": [
    "class History:\n",
    "    def __init__(self):\n",
    "        self.past = {}\n",
    "        self.current = 0\n",
    "        self.last_num = None\n",
    "    def push(self, num):\n",
    "        if self.last_num is not None:\n",
    "            self.past[self.last_num] = self.current\n",
    "        self.current += 1\n",
    "        self.last_num = num\n",
    "    def nextn(self):\n",
    "        lt = self.past.get(self.last_num, self.current)\n",
    "        return self.current - lt\n",
    "# This is slow, but fast enough for 30M\n",
    "def solution1(starting, et=2020):\n",
    "    h = History()\n",
    "    for s in starting:\n",
    "        h.push(s)\n",
    "    while h.current < et:\n",
    "        h.push(h.nextn())\n",
    "    return h.last_num"
   ]
  },
  {
   "cell_type": "code",
   "execution_count": 2,
   "metadata": {},
   "outputs": [
    {
     "data": {
      "text/plain": [
       "639"
      ]
     },
     "execution_count": 2,
     "metadata": {},
     "output_type": "execute_result"
    }
   ],
   "source": [
    "solution1([11,18,0,20,1,7,16])"
   ]
  },
  {
   "cell_type": "code",
   "execution_count": 3,
   "metadata": {},
   "outputs": [
    {
     "data": {
      "text/plain": [
       "266"
      ]
     },
     "execution_count": 3,
     "metadata": {},
     "output_type": "execute_result"
    }
   ],
   "source": [
    "solution1([11,18,0,20,1,7,16], 30000000)"
   ]
  },
  {
   "cell_type": "markdown",
   "metadata": {},
   "source": [
    "### Day 16"
   ]
  },
  {
   "cell_type": "code",
   "execution_count": 2,
   "metadata": {},
   "outputs": [],
   "source": [
    "def load_input16(fname):\n",
    "    with open(fname) as inf:\n",
    "        return [x.strip() for x in inf]\n",
    "    \n",
    "@attr.s\n",
    "class Rule:\n",
    "    name = attr.ib()\n",
    "    ranges = attr.ib()\n",
    "    \n",
    "    def valid(self, num):\n",
    "        return any(r0 <= num <= r1 for (r0, r1) in self.ranges)\n",
    "    \n",
    "def good_positions(rules, num):\n",
    "    return {i for i, rule in enumerate(rules) if rule.valid(num)}\n",
    "\n",
    "def parse_line(line):\n",
    "    name, r = line.split(':')\n",
    "    ranges = []\n",
    "    for f in r.split(' or '):\n",
    "        r0, r1 = [int(x.strip()) for x in f.split('-')]\n",
    "        ranges.append((r0, r1))\n",
    "    return Rule(name=name, ranges=ranges)\n",
    "\n",
    "def parse_lines(lines):\n",
    "    rules = []\n",
    "    i = 0\n",
    "    while i < len(lines):\n",
    "        line = lines[i]\n",
    "        i += 1\n",
    "        if not line:\n",
    "            break\n",
    "        rules.append(parse_line(line))\n",
    "    if lines[i] != 'your ticket:':\n",
    "        raise Exception('huh?')\n",
    "    i += 1\n",
    "    your_ticket = [int(x) for x in lines[i].split(',')]\n",
    "    i += 2\n",
    "    if lines[i] != 'nearby tickets:':\n",
    "        raise Exception('huh?')\n",
    "    nearby_tickets = []\n",
    "    i += 1\n",
    "    while i < len(lines):\n",
    "        if not lines[i]:\n",
    "            break\n",
    "        nearby_tickets.append([int(x) for x in lines[i].split(',')])\n",
    "        i += 1\n",
    "    return rules, your_ticket, nearby_tickets\n",
    "\n",
    "def valid1(num, rules):\n",
    "    return any(rule.valid(num) for rule in rules)\n",
    "\n",
    "def solve1(rules, your_ticket, nearby_tickets):\n",
    "    s = 0\n",
    "    for t in nearby_tickets:\n",
    "        s += sum(num for num in t if not valid1(num, rules))\n",
    "    return s\n",
    "\n",
    "def valid_ticket(ticket, rules):\n",
    "    return all(valid1(num, rules) for num in ticket)\n",
    "\n",
    "def solve2(rules, your_ticket, nearby_tickets):\n",
    "    nr = len(rules)\n",
    "    pos = [set(range(nr)) for i in range(nr)]\n",
    "    for t in nearby_tickets:\n",
    "        if not valid_ticket(t, rules):\n",
    "            continue\n",
    "        tp = [good_positions(rules, num) for num in t]\n",
    "        for pos_s, tp_s in zip(pos, tp):\n",
    "            pos_s.intersection_update(tp_s)\n",
    "    q = deque()\n",
    "    for i, p in enumerate(pos):\n",
    "        if len(p) == 1:\n",
    "            q.append(i)\n",
    "    while q:\n",
    "        i = q.popleft()\n",
    "        for j, p in enumerate(pos):\n",
    "            if len(p) > 1:\n",
    "                p.difference_update(pos[i])\n",
    "                if len(p) == 1:\n",
    "                    q.append(j)\n",
    "    if any(len(p) != 1 for p in pos):\n",
    "        raise Exception('wtf?')\n",
    "    trans = [p.pop() for p in pos]\n",
    "    r = 1\n",
    "    for i, v in enumerate(your_ticket):\n",
    "        rn = trans[i]\n",
    "        if rules[rn].name.startswith('departure'):\n",
    "            r *= v\n",
    "    return r"
   ]
  },
  {
   "cell_type": "code",
   "execution_count": 3,
   "metadata": {},
   "outputs": [],
   "source": [
    "lines = load_input16('/home/marek/Downloads/input_day16.txt')"
   ]
  },
  {
   "cell_type": "code",
   "execution_count": 4,
   "metadata": {},
   "outputs": [],
   "source": [
    "rules, your_ticket, nearby_tickets = parse_lines(lines)"
   ]
  },
  {
   "cell_type": "code",
   "execution_count": 5,
   "metadata": {},
   "outputs": [
    {
     "data": {
      "text/plain": [
       "27870"
      ]
     },
     "execution_count": 5,
     "metadata": {},
     "output_type": "execute_result"
    }
   ],
   "source": [
    "solve1(rules, your_ticket, nearby_tickets)"
   ]
  },
  {
   "cell_type": "code",
   "execution_count": 6,
   "metadata": {},
   "outputs": [
    {
     "data": {
      "text/plain": [
       "3173135507987"
      ]
     },
     "execution_count": 6,
     "metadata": {},
     "output_type": "execute_result"
    }
   ],
   "source": [
    "solve2(rules, your_ticket, nearby_tickets)"
   ]
  },
  {
   "cell_type": "markdown",
   "metadata": {},
   "source": [
    "### Day 17"
   ]
  },
  {
   "cell_type": "code",
   "execution_count": 1,
   "metadata": {},
   "outputs": [],
   "source": [
    "def load_day17(fname):\n",
    "    with open(fname) as inf:\n",
    "        return [x.strip() for x in inf]\n",
    "    \n",
    "def gen_offsets(d):\n",
    "    \n",
    "    def gen_offsets_rec(d):\n",
    "        if d == 0:\n",
    "            if any(bool(x) for x in current):\n",
    "                offset_list.append(tuple(current))\n",
    "            return\n",
    "        for r in [-1, 0, 1]:\n",
    "            current.append(r)\n",
    "            gen_offsets_rec(d - 1)\n",
    "            current.pop()\n",
    "            \n",
    "    current = []\n",
    "    offset_list = []\n",
    "    gen_offsets_rec(d)\n",
    "    return offset_list\n",
    "\n",
    "def create_cubes(lines, d):\n",
    "    f = [0]*(d - 2)\n",
    "    cubes = set()\n",
    "    R = len(lines)\n",
    "    C = len(lines[0])\n",
    "    for r in range(R):\n",
    "        for c in range(C):\n",
    "            if lines[r][c] == '#':\n",
    "                cubes.add(tuple([r, c, *f]))\n",
    "    return cubes\n",
    "\n",
    "def one_step(cubes, offsets):\n",
    "    ncubes = set()\n",
    "    empties = set()\n",
    "    for cube in cubes:\n",
    "        ac = 0\n",
    "        for off in offsets:\n",
    "            nb = tuple(x + y for x, y in zip(cube, off))\n",
    "            if nb in cubes:\n",
    "                ac += 1\n",
    "            else:\n",
    "                empties.add(nb)\n",
    "        if ac == 2 or ac == 3:\n",
    "            ncubes.add(cube)\n",
    "    for cube in empties:\n",
    "        ac = 0\n",
    "        for off in offsets:\n",
    "            nb = tuple(x + y for x, y in zip(cube, off))\n",
    "            if nb in cubes:\n",
    "                ac += 1\n",
    "        if ac == 3:\n",
    "            ncubes.add(cube)\n",
    "    return ncubes\n",
    "\n",
    "def simulate(lines, steps, d):\n",
    "    cubes = create_cubes(lines, d)\n",
    "    offsets = gen_offsets(d)\n",
    "    for _ in range(steps):\n",
    "        cubes = one_step(cubes, offsets)\n",
    "    return cubes"
   ]
  },
  {
   "cell_type": "code",
   "execution_count": 2,
   "metadata": {},
   "outputs": [],
   "source": [
    "lines = load_day17('/home/marek/Downloads/input_day17.txt')"
   ]
  },
  {
   "cell_type": "code",
   "execution_count": 3,
   "metadata": {},
   "outputs": [
    {
     "data": {
      "text/plain": [
       "271"
      ]
     },
     "execution_count": 3,
     "metadata": {},
     "output_type": "execute_result"
    }
   ],
   "source": [
    "len(simulate(lines, 6, 3))"
   ]
  },
  {
   "cell_type": "code",
   "execution_count": 4,
   "metadata": {},
   "outputs": [
    {
     "data": {
      "text/plain": [
       "2064"
      ]
     },
     "execution_count": 4,
     "metadata": {},
     "output_type": "execute_result"
    }
   ],
   "source": [
    "len(simulate(lines, 6, 4))"
   ]
  },
  {
   "cell_type": "markdown",
   "metadata": {},
   "source": [
    "### Day 18"
   ]
  },
  {
   "cell_type": "code",
   "execution_count": 1,
   "metadata": {},
   "outputs": [],
   "source": [
    "def load_input18(fname):\n",
    "    with open(fname) as inf:\n",
    "        return [x.strip() for x in inf]\n",
    "    \n",
    "class Expr:\n",
    "    def __init__(self, line):\n",
    "        self.tokens = []\n",
    "        for f in line.split():\n",
    "            while f.startswith('('):\n",
    "                self.tokens.append('(')\n",
    "                f = f[1:]\n",
    "            cl = []\n",
    "            while f.endswith(')'):\n",
    "                cl.append(')')\n",
    "                f = f[:-1]\n",
    "            if f.isdigit():\n",
    "                self.tokens.append(int(f))\n",
    "            else:\n",
    "                self.tokens.append(f)\n",
    "            self.tokens.extend(cl)\n",
    "        self.current = 0\n",
    "    def get_next(self):\n",
    "        if self.current < len(self.tokens):\n",
    "            r = self.tokens[self.current]\n",
    "            self.current += 1\n",
    "            return r\n",
    "        return None\n",
    "\n",
    "def eval_expr2(e, mult_pr, add_pr):\n",
    "    rpn = []\n",
    "    stack = []\n",
    "    priorities = {'*': mult_pr, '+': add_pr, '(': 0}\n",
    "    operators = {'+', '*'}\n",
    "    while True:\n",
    "        tok = e.get_next()\n",
    "        if tok is None:\n",
    "            break\n",
    "        if tok in operators:\n",
    "            pr = priorities[tok]\n",
    "            while stack and priorities[stack[-1]] >= pr:\n",
    "                rpn.append(stack[-1])\n",
    "                stack.pop()\n",
    "            stack.append(tok)\n",
    "            continue\n",
    "        if tok == '(':\n",
    "            stack.append(tok)\n",
    "            continue\n",
    "        if tok == ')':\n",
    "            while stack and stack[-1] != '(':\n",
    "                rpn.append(stack[-1])\n",
    "                stack.pop()\n",
    "            if stack:\n",
    "                stack.pop()\n",
    "            continue\n",
    "        rpn.append(tok)\n",
    "    while stack:\n",
    "        rpn.append(stack[-1])\n",
    "        stack.pop()\n",
    "    for tok in rpn:\n",
    "        if tok in ['+', '*']:\n",
    "            a = stack[-1]\n",
    "            b = stack[-2]\n",
    "            stack.pop()\n",
    "            if tok == '+':\n",
    "                stack[-1] = a + b\n",
    "            else:\n",
    "                stack[-1] = a*b\n",
    "        else:\n",
    "            stack.append(tok)\n",
    "    assert len(stack) == 1\n",
    "    return stack[0]\n",
    "    \n",
    "def solve1(lines):\n",
    "    s = 0\n",
    "    for line in lines:\n",
    "        s += eval_expr2(Expr(line), 1, 1)\n",
    "    return s\n",
    "\n",
    "def solve2(lines):\n",
    "    s = 0\n",
    "    for line in lines:\n",
    "        s += eval_expr2(Expr(line), 1, 2)\n",
    "    return s"
   ]
  },
  {
   "cell_type": "code",
   "execution_count": 2,
   "metadata": {},
   "outputs": [],
   "source": [
    "lines = load_input18('/home/marek/Downloads/input_day18.txt')"
   ]
  },
  {
   "cell_type": "code",
   "execution_count": 3,
   "metadata": {},
   "outputs": [
    {
     "data": {
      "text/plain": [
       "701339185745"
      ]
     },
     "execution_count": 3,
     "metadata": {},
     "output_type": "execute_result"
    }
   ],
   "source": [
    "solve1(lines)"
   ]
  },
  {
   "cell_type": "code",
   "execution_count": 4,
   "metadata": {},
   "outputs": [
    {
     "data": {
      "text/plain": [
       "4208490449905"
      ]
     },
     "execution_count": 4,
     "metadata": {},
     "output_type": "execute_result"
    }
   ],
   "source": [
    "solve2(lines)"
   ]
  },
  {
   "cell_type": "code",
   "execution_count": null,
   "metadata": {},
   "outputs": [],
   "source": []
  }
 ],
 "metadata": {
  "kernelspec": {
   "display_name": "Python 3",
   "language": "python",
   "name": "python3"
  },
  "language_info": {
   "codemirror_mode": {
    "name": "ipython",
    "version": 3
   },
   "file_extension": ".py",
   "mimetype": "text/x-python",
   "name": "python",
   "nbconvert_exporter": "python",
   "pygments_lexer": "ipython3",
   "version": "3.8.5"
  }
 },
 "nbformat": 4,
 "nbformat_minor": 4
}

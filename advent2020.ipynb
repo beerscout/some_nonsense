{
 "cells": [
  {
   "cell_type": "code",
   "execution_count": 1,
   "metadata": {},
   "outputs": [],
   "source": [
    "import attr\n",
    "from collections import deque, defaultdict\n",
    "from itertools import combinations\n",
    "import numpy as np"
   ]
  },
  {
   "cell_type": "markdown",
   "metadata": {},
   "source": [
    "### Day 1"
   ]
  },
  {
   "cell_type": "code",
   "execution_count": 2,
   "metadata": {},
   "outputs": [],
   "source": [
    "def load_input1(fname):\n",
    "    with open(fname) as inf:\n",
    "        return [int(x.strip()) for x in inf]\n",
    "def sum2(nums):\n",
    "    n = len(nums)\n",
    "    for i in range(n - 1):\n",
    "        for j in range(i + 1, n):\n",
    "            if nums[i] + nums[j] == 2020:\n",
    "                return nums[i]*nums[j]\n",
    "    raise Exception('huh?')\n",
    "# only 200 numbers, so brute force works\n",
    "def sum3(nums):\n",
    "    n = len(nums)\n",
    "    for i in range(n - 2):\n",
    "        for j in range(i + 1, n - 1):\n",
    "            for k in range(j + 1, n):\n",
    "                if nums[i] + nums[j] + nums[k] == 2020:\n",
    "                    return nums[i]*nums[j]*nums[k]\n",
    "    raise Exception('huh?')"
   ]
  },
  {
   "cell_type": "code",
   "execution_count": 3,
   "metadata": {},
   "outputs": [],
   "source": [
    "nums = load_input1('/home/marek/Downloads/input_day1.txt')"
   ]
  },
  {
   "cell_type": "code",
   "execution_count": 4,
   "metadata": {},
   "outputs": [
    {
     "data": {
      "text/plain": [
       "921504"
      ]
     },
     "execution_count": 4,
     "metadata": {},
     "output_type": "execute_result"
    }
   ],
   "source": [
    "sum2(nums)"
   ]
  },
  {
   "cell_type": "code",
   "execution_count": 5,
   "metadata": {},
   "outputs": [
    {
     "data": {
      "text/plain": [
       "195700142"
      ]
     },
     "execution_count": 5,
     "metadata": {},
     "output_type": "execute_result"
    }
   ],
   "source": [
    "sum3(nums)"
   ]
  },
  {
   "cell_type": "markdown",
   "metadata": {},
   "source": [
    "### Day 2"
   ]
  },
  {
   "cell_type": "code",
   "execution_count": 6,
   "metadata": {},
   "outputs": [],
   "source": [
    "def load_input2(fname):\n",
    "    with open(fname) as inf:\n",
    "        rules = []\n",
    "        for line in inf:\n",
    "            f = line.split()\n",
    "            r0, r1 = [int(x) for x in f[0].split('-')]\n",
    "            letter = f[1][:-1]\n",
    "            pw = f[2]\n",
    "            rules.append((r0, r1, letter, pw))\n",
    "    return rules\n",
    "def valid1(rule):\n",
    "    cnt = rule[-1].count(rule[2])\n",
    "    return rule[0] <= cnt <= rule[1]\n",
    "def valid2(rule):\n",
    "    r0, r1, l, pw = rule\n",
    "    r0 -= 1\n",
    "    r1 -= 1\n",
    "    return pw[r0] == l and pw[r1] != l or pw[r0] != l and pw[r1] == l"
   ]
  },
  {
   "cell_type": "code",
   "execution_count": 7,
   "metadata": {},
   "outputs": [],
   "source": [
    "rules = load_input2('/home/marek/Downloads/input_day2.txt')"
   ]
  },
  {
   "cell_type": "code",
   "execution_count": 8,
   "metadata": {},
   "outputs": [
    {
     "data": {
      "text/plain": [
       "460"
      ]
     },
     "execution_count": 8,
     "metadata": {},
     "output_type": "execute_result"
    }
   ],
   "source": [
    "len([rule for rule in rules if valid1(rule)])"
   ]
  },
  {
   "cell_type": "code",
   "execution_count": 9,
   "metadata": {},
   "outputs": [
    {
     "data": {
      "text/plain": [
       "251"
      ]
     },
     "execution_count": 9,
     "metadata": {},
     "output_type": "execute_result"
    }
   ],
   "source": [
    "len([rule for rule in rules if valid2(rule)])"
   ]
  },
  {
   "cell_type": "markdown",
   "metadata": {},
   "source": [
    "### Day 3"
   ]
  },
  {
   "cell_type": "code",
   "execution_count": 10,
   "metadata": {},
   "outputs": [],
   "source": [
    "def load_input3(fname):\n",
    "    with open(fname) as inf:\n",
    "        return [x.strip() for x in inf]\n",
    "def ntrees1(lines, right, down):\n",
    "    R = len(lines)\n",
    "    C = len(lines[0])\n",
    "    r = c = 0\n",
    "    nt = 0\n",
    "    while r < R:\n",
    "        if lines[r][c] == '#':\n",
    "            nt += 1\n",
    "        c = (c + right)%C\n",
    "        r += down\n",
    "    return nt"
   ]
  },
  {
   "cell_type": "code",
   "execution_count": 11,
   "metadata": {},
   "outputs": [],
   "source": [
    "lines = load_input3('/home/marek/Downloads/input_day3.txt')"
   ]
  },
  {
   "cell_type": "code",
   "execution_count": 12,
   "metadata": {},
   "outputs": [
    {
     "data": {
      "text/plain": [
       "187"
      ]
     },
     "execution_count": 12,
     "metadata": {},
     "output_type": "execute_result"
    }
   ],
   "source": [
    "ntrees1(lines, 3, 1)"
   ]
  },
  {
   "cell_type": "code",
   "execution_count": 13,
   "metadata": {},
   "outputs": [
    {
     "data": {
      "text/plain": [
       "4723283400"
      ]
     },
     "execution_count": 13,
     "metadata": {},
     "output_type": "execute_result"
    }
   ],
   "source": [
    "ntrees1(lines, 1, 1)*ntrees1(lines, 3, 1)*ntrees1(lines, 5, 1)*ntrees1(lines, 7, 1)*ntrees1(lines, 1, 2)"
   ]
  },
  {
   "cell_type": "markdown",
   "metadata": {},
   "source": [
    "### Day 4"
   ]
  },
  {
   "cell_type": "code",
   "execution_count": 14,
   "metadata": {},
   "outputs": [],
   "source": [
    "def load_input4(fname):\n",
    "    r = []\n",
    "    with open(fname) as inf:\n",
    "        cp = {}\n",
    "        for line in inf:\n",
    "            line = line.strip()\n",
    "            if not line:\n",
    "                if cp:\n",
    "                    r.append(cp)\n",
    "                    cp = {}\n",
    "                    continue\n",
    "            fields = line.split()\n",
    "            for f in fields:\n",
    "                k, v = f.split(':')\n",
    "                cp[k] = v\n",
    "        if cp:\n",
    "            r.append(cp)\n",
    "    return r\n",
    "def valid1(cp):\n",
    "    req = {'byr', 'iyr', 'eyr', 'hgt', 'hcl', 'ecl', 'pid'}\n",
    "    pres = set(cp.keys())\n",
    "    return req.issubset(pres)\n",
    "# ouch...\n",
    "def valid_byr(v):\n",
    "    return len(v) == 4 and v.isdigit() and 1920 <= int(v) <= 2002\n",
    "def valid_iyr(v):\n",
    "    return len(v) == 4 and v.isdigit() and 2010 <= int(v) <= 2020\n",
    "def valid_eyr(v):\n",
    "    return len(v) == 4 and v.isdigit() and 2020 <= int(v) <= 2030\n",
    "def valid_hgt(v):\n",
    "    if v.endswith('cm'):\n",
    "        return v[:-2].isdigit() and 150 <= int(v[:-2]) <= 193\n",
    "    if v.endswith('in'):\n",
    "        return v[:-2].isdigit() and 59 <= int(v[:-2]) <= 76\n",
    "    return False\n",
    "def valid_hcl(v):\n",
    "    return len(v) == 7 and v.startswith('#') and set(v[1:]).issubset('0123456789abcdef')\n",
    "def valid_ecl(v):\n",
    "    return v in {'amb', 'blu', 'brn', 'gry', 'grn', 'hzl', 'oth'}\n",
    "def valid_pid(v):\n",
    "    return len(v) == 9 and v.isdigit()\n",
    "dispatch = {'byr': valid_byr, 'iyr': valid_iyr, 'eyr': valid_eyr, 'hgt': valid_hgt, 'hcl': valid_hcl,\n",
    "            'ecl': valid_ecl, 'pid': valid_pid}\n",
    "def valid2(cp):\n",
    "    if not valid1(cp):\n",
    "        return False\n",
    "    return all(d(cp[k]) for k, d in dispatch.items())"
   ]
  },
  {
   "cell_type": "code",
   "execution_count": 15,
   "metadata": {},
   "outputs": [],
   "source": [
    "pp = load_input4('/home/marek/Downloads/input_day4.txt')"
   ]
  },
  {
   "cell_type": "code",
   "execution_count": 16,
   "metadata": {},
   "outputs": [
    {
     "data": {
      "text/plain": [
       "264"
      ]
     },
     "execution_count": 16,
     "metadata": {},
     "output_type": "execute_result"
    }
   ],
   "source": [
    "len([p for p in pp if valid1(p)])"
   ]
  },
  {
   "cell_type": "code",
   "execution_count": 17,
   "metadata": {},
   "outputs": [
    {
     "data": {
      "text/plain": [
       "224"
      ]
     },
     "execution_count": 17,
     "metadata": {},
     "output_type": "execute_result"
    }
   ],
   "source": [
    "len([p for p in pp if valid2(p)])"
   ]
  },
  {
   "cell_type": "markdown",
   "metadata": {},
   "source": [
    "### Day 5"
   ]
  },
  {
   "cell_type": "code",
   "execution_count": 18,
   "metadata": {},
   "outputs": [],
   "source": [
    "def load_input5(fname):\n",
    "    with open(fname) as inf:\n",
    "        return [x.strip() for x in inf]\n",
    "def get_id(p):\n",
    "    lo = 0; hi = 127\n",
    "    for c in p[:7]:\n",
    "        m = (lo + hi)//2\n",
    "        if c == 'F':\n",
    "            hi = m\n",
    "        else:\n",
    "            lo = m + 1\n",
    "    row = lo\n",
    "    lo = 0; hi = 7\n",
    "    for c in p[7:]:\n",
    "        m = (lo + hi)//2\n",
    "        if c == 'L':\n",
    "            hi = m\n",
    "        else:\n",
    "            lo = m + 1\n",
    "    return row*8 + lo"
   ]
  },
  {
   "cell_type": "code",
   "execution_count": 19,
   "metadata": {},
   "outputs": [],
   "source": [
    "bps = load_input5('/home/marek/Downloads/input_day5.txt')"
   ]
  },
  {
   "cell_type": "code",
   "execution_count": 20,
   "metadata": {},
   "outputs": [
    {
     "data": {
      "text/plain": [
       "935"
      ]
     },
     "execution_count": 20,
     "metadata": {},
     "output_type": "execute_result"
    }
   ],
   "source": [
    "max(get_id(b) for b in bps)"
   ]
  },
  {
   "cell_type": "code",
   "execution_count": 21,
   "metadata": {},
   "outputs": [
    {
     "name": "stdout",
     "output_type": "stream",
     "text": [
      "743\n"
     ]
    }
   ],
   "source": [
    "present=set(get_id(b) for b in bps)\n",
    "missing=set(range(936)).difference(present)\n",
    "for m in missing:\n",
    "    if m - 1 in present and m + 1 in present:\n",
    "        print(m)\n",
    "        break"
   ]
  },
  {
   "cell_type": "markdown",
   "metadata": {},
   "source": [
    "### Day 6"
   ]
  },
  {
   "cell_type": "code",
   "execution_count": 22,
   "metadata": {},
   "outputs": [],
   "source": [
    "def load_input6(fname):\n",
    "    with open(fname) as inf:\n",
    "        r = []\n",
    "        cp = []\n",
    "        for line in inf:\n",
    "            line = line.strip()\n",
    "            if not line:\n",
    "                if cp:\n",
    "                    r.append(cp)\n",
    "                    cp = []\n",
    "                continue\n",
    "            cp.append(set(line))\n",
    "        if cp:\n",
    "            r.append(cp)\n",
    "    return r\n",
    "def count1(cp):\n",
    "    return len(set.union(*cp))\n",
    "def count2(cp):\n",
    "    return len(set.intersection(*cp))"
   ]
  },
  {
   "cell_type": "code",
   "execution_count": 23,
   "metadata": {},
   "outputs": [],
   "source": [
    "ques = load_input6('/home/marek/Downloads/input_day6.txt')"
   ]
  },
  {
   "cell_type": "code",
   "execution_count": 24,
   "metadata": {},
   "outputs": [
    {
     "data": {
      "text/plain": [
       "6742"
      ]
     },
     "execution_count": 24,
     "metadata": {},
     "output_type": "execute_result"
    }
   ],
   "source": [
    "sum(count1(cp) for cp in ques)"
   ]
  },
  {
   "cell_type": "code",
   "execution_count": 25,
   "metadata": {},
   "outputs": [
    {
     "data": {
      "text/plain": [
       "3447"
      ]
     },
     "execution_count": 25,
     "metadata": {},
     "output_type": "execute_result"
    }
   ],
   "source": [
    "sum(count2(cp) for cp in ques)"
   ]
  },
  {
   "cell_type": "markdown",
   "metadata": {},
   "source": [
    "### Day 7"
   ]
  },
  {
   "cell_type": "code",
   "execution_count": 26,
   "metadata": {},
   "outputs": [],
   "source": [
    "def load_input7(fname):\n",
    "    with open(fname) as inf:\n",
    "        return [x.strip() for x in inf]\n",
    "    \n",
    "# Ouch, that's tedious...\n",
    "@attr.s\n",
    "class Bag:\n",
    "    parents = attr.ib()\n",
    "    children = attr.ib()\n",
    "    name = attr.ib()\n",
    "\n",
    "def split_sentence(s):\n",
    "    s = s.lower().replace(\",\", \"\").replace(\".\", \"\").replace(\"bags\", \"bag\").replace('contains', 'contain')\n",
    "    fields = s.split()\n",
    "    if len(fields) < 7 or fields[3] != 'contain':\n",
    "        return None\n",
    "    if fields[2] != 'bag':\n",
    "        return None\n",
    "    parent_bag = '{} {}'.format(fields[0], fields[1])\n",
    "    child_bags = []\n",
    "    i = 4\n",
    "    while i + 2 < len(fields):\n",
    "        if fields[i] == 'no':\n",
    "            if fields[i + 2] != 'bag':\n",
    "                return None\n",
    "            i += 3\n",
    "            continue\n",
    "        if i + 3 >= len(fields) or not fields[i].isdigit() or fields[i + 3] != 'bag':\n",
    "            return None\n",
    "        nc = int(fields[i])\n",
    "        child_bag = '{} {}'.format(fields[i + 1], fields[i + 2])\n",
    "        child_bags.append((nc, child_bag))\n",
    "        i += 4\n",
    "    return parent_bag, child_bags\n",
    "\n",
    "def create_bag_map(lines):\n",
    "    bag_map = {}\n",
    "    for line in lines:\n",
    "        line=line.strip()\n",
    "        if not line:\n",
    "            continue\n",
    "        parent_bag, child_bags = split_sentence(line.strip())\n",
    "        try:\n",
    "            p_bag = bag_map[parent_bag]\n",
    "        except KeyError:\n",
    "            p_bag = bag_map[parent_bag] = Bag(set(), set(), parent_bag)\n",
    "        for nc, child_bag in child_bags:\n",
    "            try:\n",
    "                c_bag = bag_map[child_bag]\n",
    "            except KeyError:\n",
    "                c_bag = bag_map[child_bag] = Bag(set(), set(), child_bag)\n",
    "            c_bag.parents.add(parent_bag)\n",
    "            p_bag.children.add((nc, child_bag))\n",
    "    return bag_map\n",
    "\n",
    "def solve1(bag_map):\n",
    "    bg = bag_map['shiny gold']\n",
    "    visited = set()\n",
    "    to_process = deque()\n",
    "    to_process.extend(bg.parents)\n",
    "    while to_process:\n",
    "        bg_name = to_process.popleft()\n",
    "        if bg_name in visited:\n",
    "            continue\n",
    "        visited.add(bg_name)\n",
    "        bg = bag_map[bg_name]\n",
    "        to_process.extend(bg.parents)\n",
    "    return visited\n",
    "\n",
    "def solve2(starting_bag, bag_map):\n",
    "    bg = bag_map[starting_bag]\n",
    "    tot = 1\n",
    "    for nc, child_bag in bg.children:\n",
    "        tot += nc*solve2(child_bag, bag_map)\n",
    "    return tot"
   ]
  },
  {
   "cell_type": "code",
   "execution_count": 27,
   "metadata": {},
   "outputs": [],
   "source": [
    "bags = create_bag_map(load_input7('/home/marek/Downloads/input_day7.txt'))"
   ]
  },
  {
   "cell_type": "code",
   "execution_count": 28,
   "metadata": {},
   "outputs": [
    {
     "data": {
      "text/plain": [
       "287"
      ]
     },
     "execution_count": 28,
     "metadata": {},
     "output_type": "execute_result"
    }
   ],
   "source": [
    "len(solve1(bags))"
   ]
  },
  {
   "cell_type": "code",
   "execution_count": 29,
   "metadata": {},
   "outputs": [
    {
     "data": {
      "text/plain": [
       "48160"
      ]
     },
     "execution_count": 29,
     "metadata": {},
     "output_type": "execute_result"
    }
   ],
   "source": [
    "solve2('shiny gold', bags) - 1"
   ]
  },
  {
   "cell_type": "markdown",
   "metadata": {},
   "source": [
    "### Day 8"
   ]
  },
  {
   "cell_type": "code",
   "execution_count": 30,
   "metadata": {},
   "outputs": [],
   "source": [
    "def load_input8(fname):\n",
    "    with open(fname) as inf:\n",
    "        return [x.strip() for x in inf]\n",
    "    \n",
    "@attr.s\n",
    "class Inst:\n",
    "    op = attr.ib()\n",
    "    arg = attr.ib()\n",
    "    visited = attr.ib(default=0)\n",
    "    \n",
    "def execute(prog):\n",
    "    for p in prog:\n",
    "        p.visited = 0\n",
    "    pc = 0\n",
    "    acc = 0\n",
    "    while prog[pc].visited == 0:\n",
    "        prog[pc].visited += 1\n",
    "        if prog[pc].op == 'nop':\n",
    "            pc += 1\n",
    "            continue\n",
    "        if prog[pc].op == \"acc\":\n",
    "            acc += prog[pc].arg\n",
    "            pc += 1\n",
    "            continue\n",
    "        if prog[pc].op == \"jmp\":\n",
    "            pc += prog[pc].arg\n",
    "            continue\n",
    "        raise Exception('Unknown instruction {}'.format(prog[pc]))\n",
    "    return acc\n",
    "\n",
    "def extract(lines):\n",
    "    prog = []\n",
    "    for line in lines:\n",
    "        line = line.strip()\n",
    "        if not line:\n",
    "            continue\n",
    "        op, arg = line.split()\n",
    "        prog.append(Inst(op, int(arg), 0))\n",
    "    return prog"
   ]
  },
  {
   "cell_type": "code",
   "execution_count": 31,
   "metadata": {},
   "outputs": [],
   "source": [
    "prog = extract(load_input8('/home/marek/Downloads/input_day8.txt'))"
   ]
  },
  {
   "cell_type": "code",
   "execution_count": 32,
   "metadata": {},
   "outputs": [
    {
     "data": {
      "text/plain": [
       "1941"
      ]
     },
     "execution_count": 32,
     "metadata": {},
     "output_type": "execute_result"
    }
   ],
   "source": [
    "execute(prog)"
   ]
  },
  {
   "cell_type": "code",
   "execution_count": 33,
   "metadata": {},
   "outputs": [],
   "source": [
    "def execute2(prog):\n",
    "    for p in prog:\n",
    "        p.visited = 0\n",
    "    pc = 0\n",
    "    acc = 0\n",
    "    while pc < len(prog):\n",
    "        if prog[pc].visited > 0:\n",
    "            return None\n",
    "        prog[pc].visited += 1\n",
    "        if prog[pc].op == 'nop':\n",
    "            pc += 1\n",
    "            continue\n",
    "        if prog[pc].op == \"acc\":\n",
    "            acc += prog[pc].arg\n",
    "            pc += 1\n",
    "            continue\n",
    "        if prog[pc].op == \"jmp\":\n",
    "            pc += prog[pc].arg\n",
    "            continue\n",
    "        raise Exception('Unknown instruction {}'.format(prog[pc]))\n",
    "    return acc\n",
    "\n",
    "def simulate(prog):\n",
    "    for p in prog:\n",
    "        if p.op == 'acc':\n",
    "            continue\n",
    "        if p.op == 'nop':\n",
    "            p.op = 'jmp'\n",
    "            v = execute2(prog)\n",
    "            if v is not None:\n",
    "                return v\n",
    "            p.op = 'nop'\n",
    "            continue\n",
    "        p.op = 'nop'\n",
    "        v = execute2(prog)\n",
    "        if v is not None:\n",
    "            return v\n",
    "        p.op = 'jmp'\n",
    "    return None"
   ]
  },
  {
   "cell_type": "code",
   "execution_count": 34,
   "metadata": {},
   "outputs": [
    {
     "data": {
      "text/plain": [
       "2096"
      ]
     },
     "execution_count": 34,
     "metadata": {},
     "output_type": "execute_result"
    }
   ],
   "source": [
    "simulate(prog)"
   ]
  },
  {
   "cell_type": "markdown",
   "metadata": {},
   "source": [
    "### Day 9"
   ]
  },
  {
   "cell_type": "code",
   "execution_count": 35,
   "metadata": {},
   "outputs": [],
   "source": [
    "def load_input9(fname):\n",
    "    with open(fname) as inf:\n",
    "        return [int(x.strip()) for x in inf]\n",
    "    \n",
    "def all_sums(nums):\n",
    "    r=set()\n",
    "    for i in range(len(nums)):\n",
    "        for j in range(i + 1, len(nums)):\n",
    "            r.add(nums[i]+nums[j])\n",
    "    return r\n",
    "\n",
    "def first_bad(inplist, l):\n",
    "    for i in range(l + 1, len(inplist)):\n",
    "        s = all_sums(inplist[i - l - 1:i])\n",
    "        if inplist[i] not in s:\n",
    "            return inplist[i]\n",
    "    return None"
   ]
  },
  {
   "cell_type": "code",
   "execution_count": 36,
   "metadata": {},
   "outputs": [],
   "source": [
    "inplist = load_input9('/home/marek/Downloads/input_day9.txt')"
   ]
  },
  {
   "cell_type": "code",
   "execution_count": 37,
   "metadata": {},
   "outputs": [
    {
     "data": {
      "text/plain": [
       "29221323"
      ]
     },
     "execution_count": 37,
     "metadata": {},
     "output_type": "execute_result"
    }
   ],
   "source": [
    "first_bad(inplist, 25)"
   ]
  },
  {
   "cell_type": "code",
   "execution_count": 38,
   "metadata": {},
   "outputs": [],
   "source": [
    "def preproc(nums):\n",
    "    r = [0]\n",
    "    for n in nums:\n",
    "        x = r[-1] + n\n",
    "        r.append(x)\n",
    "    return r\n",
    "\n",
    "def getsum(prnums, i, j):\n",
    "    return prnums[j + 1] - prnums[i]\n",
    "\n",
    "def find2(nums, x):\n",
    "    pr_nums = preproc(nums)\n",
    "    for i in range(len(nums)):\n",
    "        for j in range(i + 1, len(nums)):\n",
    "            if getsum(pr_nums, i, j) == x:\n",
    "                return min(nums[i:j+1]) + max(nums[i:j+1])\n",
    "    return None"
   ]
  },
  {
   "cell_type": "code",
   "execution_count": 39,
   "metadata": {},
   "outputs": [
    {
     "data": {
      "text/plain": [
       "4389369"
      ]
     },
     "execution_count": 39,
     "metadata": {},
     "output_type": "execute_result"
    }
   ],
   "source": [
    "find2(inplist, 29221323)"
   ]
  },
  {
   "cell_type": "markdown",
   "metadata": {},
   "source": [
    "### Day 10"
   ]
  },
  {
   "cell_type": "code",
   "execution_count": 40,
   "metadata": {},
   "outputs": [],
   "source": [
    "def load_input10(fname):\n",
    "    with open(fname) as inf:\n",
    "        return [int(x.strip()) for x in inf]\n",
    "    \n",
    "def jolts1(nums):\n",
    "    nums.append(0)\n",
    "    nums.sort()\n",
    "    x = nums[-1] + 3\n",
    "    nums.append(x)\n",
    "    d1 = d3 = 0\n",
    "    for i in range(1, len(nums)):\n",
    "        diff = nums[i]-nums[i - 1]\n",
    "        if diff == 1:\n",
    "            d1 += 1\n",
    "        elif diff == 3:\n",
    "            d3 += 1\n",
    "    return d1*d3"
   ]
  },
  {
   "cell_type": "code",
   "execution_count": 41,
   "metadata": {},
   "outputs": [],
   "source": [
    "nums = load_input10('/home/marek/Downloads/input_day10.txt')"
   ]
  },
  {
   "cell_type": "code",
   "execution_count": 42,
   "metadata": {},
   "outputs": [
    {
     "data": {
      "text/plain": [
       "2040"
      ]
     },
     "execution_count": 42,
     "metadata": {},
     "output_type": "execute_result"
    }
   ],
   "source": [
    "jolts1(nums.copy())"
   ]
  },
  {
   "cell_type": "code",
   "execution_count": 43,
   "metadata": {},
   "outputs": [],
   "source": [
    "def jolts2(nums):\n",
    "    nums.append(0)\n",
    "    nums.sort()\n",
    "    x = nums[-1] + 3\n",
    "    nums.append(x)\n",
    "    n = len(nums)\n",
    "    counts = [0]*n\n",
    "    counts[n - 1] = 1\n",
    "    for i in range(n - 2, -1, -1):\n",
    "        j = i + 1\n",
    "        tot = 0\n",
    "        while j < n and nums[j] - nums[i] <= 3:\n",
    "            tot += counts[j]\n",
    "            j += 1\n",
    "        counts[i] = tot\n",
    "    return counts[0]"
   ]
  },
  {
   "cell_type": "code",
   "execution_count": 44,
   "metadata": {},
   "outputs": [
    {
     "data": {
      "text/plain": [
       "28346956187648"
      ]
     },
     "execution_count": 44,
     "metadata": {},
     "output_type": "execute_result"
    }
   ],
   "source": [
    "jolts2(nums.copy())"
   ]
  },
  {
   "cell_type": "markdown",
   "metadata": {},
   "source": [
    "### Day 11"
   ]
  },
  {
   "cell_type": "code",
   "execution_count": 45,
   "metadata": {},
   "outputs": [],
   "source": [
    "def load_input11(fname):\n",
    "    with open(fname) as inf:\n",
    "        return [x.strip() for x in inf]\n",
    "\n",
    "dr = [-1, -1, -1,  0, 0,  1, 1, 1]\n",
    "dc = [-1,  0,  1, -1, 1, -1, 0, 1]\n",
    "\n",
    "def getv(lines, r, c):\n",
    "    R = len(lines)\n",
    "    C = len(lines[0])\n",
    "    if 0 <= r < R and 0 <= c < C:\n",
    "        return lines[r][c]\n",
    "    return None\n",
    "\n",
    "def deg(lines, r, c):\n",
    "    if lines[r][c] != 'L' and lines[r][c] != '#':\n",
    "        return -1\n",
    "    d = 0\n",
    "    for i in range(len(dr)):\n",
    "        if getv(lines, r + dr[i], c + dc[i]) == '#':\n",
    "            d += 1\n",
    "    return d\n",
    "\n",
    "def deg2(lines, r, c):\n",
    "    if lines[r][c] != 'L' and lines[r][c] != '#':\n",
    "        return -1\n",
    "    d = 0\n",
    "    for i in range(len(dr)):\n",
    "        nr = r + dr[i]\n",
    "        nc = c + dc[i]\n",
    "        while True:\n",
    "            xx = getv(lines, nr, nc)\n",
    "            if xx is None or xx == 'L':\n",
    "                break\n",
    "            if xx == '#':\n",
    "                d += 1\n",
    "                break\n",
    "            nr += dr[i]\n",
    "            nc += dc[i]\n",
    "    return d\n",
    "\n",
    "def one_step(lines, deg, b):\n",
    "    R = len(lines)\n",
    "    C = len(lines[0])\n",
    "    ng = []\n",
    "    for r in range(R):\n",
    "        ng.append(['.']*C)\n",
    "    for r in range(R):\n",
    "        for c in range(C):\n",
    "            d = deg(lines, r, c)\n",
    "            if d < 0:\n",
    "                continue\n",
    "            if d == 0 and lines[r][c] == 'L':\n",
    "                ng[r][c] = '#'\n",
    "                continue\n",
    "            if d >= b and lines[r][c] == '#':\n",
    "                ng[r][c] = 'L'\n",
    "                continue\n",
    "            ng[r][c] = lines[r][c]\n",
    "    return ng\n",
    "\n",
    "def evol(lines, deg, b):\n",
    "    while True:\n",
    "        ng = one_step(lines, deg, b)\n",
    "        if ng == lines:\n",
    "            return ng\n",
    "        lines = ng\n",
    "        \n",
    "def score(lines):\n",
    "    return sum(l.count('#') for l in lines)"
   ]
  },
  {
   "cell_type": "code",
   "execution_count": 46,
   "metadata": {},
   "outputs": [],
   "source": [
    "lines = load_input11('/home/marek/Downloads/input_day11.txt')"
   ]
  },
  {
   "cell_type": "code",
   "execution_count": 47,
   "metadata": {},
   "outputs": [
    {
     "data": {
      "text/plain": [
       "2338"
      ]
     },
     "execution_count": 47,
     "metadata": {},
     "output_type": "execute_result"
    }
   ],
   "source": [
    "score(evol(lines, deg, 4))"
   ]
  },
  {
   "cell_type": "code",
   "execution_count": 48,
   "metadata": {},
   "outputs": [
    {
     "data": {
      "text/plain": [
       "2134"
      ]
     },
     "execution_count": 48,
     "metadata": {},
     "output_type": "execute_result"
    }
   ],
   "source": [
    "score(evol(lines, deg2, 5))"
   ]
  },
  {
   "cell_type": "markdown",
   "metadata": {},
   "source": [
    "### Day 12"
   ]
  },
  {
   "cell_type": "code",
   "execution_count": 49,
   "metadata": {},
   "outputs": [],
   "source": [
    "def load_input12(fname):\n",
    "    with open(fname) as inf:\n",
    "        return [x.strip() for x in inf]\n",
    "    \n",
    "dirs = [[1, 0], [0, -1], [-1, 0], [0, 1]]\n",
    "def tright(cd, deg):\n",
    "    d = deg//90\n",
    "    return (cd + d)%4\n",
    "def tleft(cd, deg):\n",
    "    d = deg//90\n",
    "    return (cd + 4 - d)%4\n",
    "def traverse(lines):\n",
    "    dsp = {'F': lambda x, y, cd: (x + dirs[cd][0]*d, y + dirs[cd][1]*d, cd),\n",
    "           'N': lambda x, y, cd: (x, y + d, cd),\n",
    "           'S': lambda x, y, cd: (x, y - d, cd),\n",
    "           'E': lambda x, y, cd: (x + d, y, cd),\n",
    "           'W': lambda x, y, cd: (x - d, y, cd),\n",
    "           'L': lambda x, y, cd: (x, y, tleft(cd, d)),\n",
    "           'R': lambda x, y, cd: (x, y, tright(cd, d))}\n",
    "    cd = 0\n",
    "    x = y = 0\n",
    "    for line in lines:\n",
    "        d = int(line[1:])\n",
    "        x, y, cd = dsp[line[0]](x, y, cd)\n",
    "    return abs(x) + abs(y)"
   ]
  },
  {
   "cell_type": "code",
   "execution_count": 50,
   "metadata": {},
   "outputs": [],
   "source": [
    "lines = load_input12('/home/marek/Downloads/input_day12.txt')"
   ]
  },
  {
   "cell_type": "code",
   "execution_count": 51,
   "metadata": {},
   "outputs": [
    {
     "data": {
      "text/plain": [
       "521"
      ]
     },
     "execution_count": 51,
     "metadata": {},
     "output_type": "execute_result"
    }
   ],
   "source": [
    "traverse(lines)"
   ]
  },
  {
   "cell_type": "code",
   "execution_count": 52,
   "metadata": {},
   "outputs": [],
   "source": [
    "def wpleft(wpx, wpy):\n",
    "    return -wpy, wpx\n",
    "\n",
    "def wpright(wpx, wpy):\n",
    "    return wpy, -wpx\n",
    "\n",
    "def rotleft(wpx, wpy, deg):\n",
    "    for _ in range(deg//90):\n",
    "        wpx, wpy = wpleft(wpx, wpy)\n",
    "    return wpx, wpy\n",
    "\n",
    "def rotright(wpx, wpy, deg):\n",
    "    for _ in range(deg//90):\n",
    "        wpx, wpy = wpright(wpx, wpy)\n",
    "    return wpx, wpy\n",
    "\n",
    "def traverse2(lines):\n",
    "    x = y = 0\n",
    "    wpx = 10\n",
    "    wpy = 1\n",
    "    dsp = {'F': lambda x, y, wpx, wpy: (x + wpx*d, y + wpy*d, wpx, wpy),\n",
    "           'N': lambda x, y, wpx, wpy: (x, y, wpx, wpy + d),\n",
    "           'S': lambda x, y, wpx, wpy: (x, y, wpx, wpy - d),\n",
    "           'E': lambda x, y, wpx, wpy: (x, y, wpx + d, wpy),\n",
    "           'W': lambda x, y, wpx, wpy: (x, y, wpx - d, wpy),\n",
    "           'L': lambda x, y, wpx, wpy: (x, y, *rotleft(wpx, wpy, d)),\n",
    "           'R': lambda x, y, wpx, wpy: (x, y, *rotright(wpx, wpy, d))}\n",
    "    for line in lines:\n",
    "        d = int(line[1:])\n",
    "        x, y, wpx, wpy = dsp[line[0]](x, y, wpx, wpy)\n",
    "    return abs(x) + abs(y)"
   ]
  },
  {
   "cell_type": "code",
   "execution_count": 53,
   "metadata": {},
   "outputs": [
    {
     "data": {
      "text/plain": [
       "22848"
      ]
     },
     "execution_count": 53,
     "metadata": {},
     "output_type": "execute_result"
    }
   ],
   "source": [
    "traverse2(lines)"
   ]
  },
  {
   "cell_type": "markdown",
   "metadata": {},
   "source": [
    "### Day 13"
   ]
  },
  {
   "cell_type": "code",
   "execution_count": 54,
   "metadata": {},
   "outputs": [],
   "source": [
    "def load_input13(fname):\n",
    "    with open(fname) as inf:\n",
    "        ts = int(inf.readline().strip())\n",
    "        bus_ids = inf.readline().strip().split(',')\n",
    "    return ts, bus_ids\n",
    "        \n",
    "def solve1(ts, busses):\n",
    "    best_id = None\n",
    "    best_w = None\n",
    "    for bid in busses:\n",
    "        if bid == 'x':\n",
    "            continue\n",
    "        b = int(bid)\n",
    "        if ts%b == 0:\n",
    "            return 0\n",
    "        ts_b = (ts//b + 1)*b - ts\n",
    "        if best_w is None or best_w > ts_b:\n",
    "            best_w = ts_b\n",
    "            best_id = b\n",
    "    return best_id*best_w"
   ]
  },
  {
   "cell_type": "code",
   "execution_count": 55,
   "metadata": {},
   "outputs": [],
   "source": [
    "ts, busses = load_input13('/home/marek/Downloads/input_day13.txt')"
   ]
  },
  {
   "cell_type": "code",
   "execution_count": 56,
   "metadata": {},
   "outputs": [
    {
     "data": {
      "text/plain": [
       "2947"
      ]
     },
     "execution_count": 56,
     "metadata": {},
     "output_type": "execute_result"
    }
   ],
   "source": [
    "solve1(ts, busses)"
   ]
  },
  {
   "cell_type": "code",
   "execution_count": 57,
   "metadata": {},
   "outputs": [],
   "source": [
    "def euclid_inverse(a, n):\n",
    "    t = 0;     newt = 1\n",
    "    r = n;     newr = a\n",
    "    while newr != 0:\n",
    "        quotient = r//newr\n",
    "        t, newt = newt, t - quotient*newt \n",
    "        r, newr = newr, r - quotient*newr\n",
    "    if r > 1:\n",
    "        raise Exception(\"{} is not invertible mod {}\".format(a, n))\n",
    "    if t < 0:\n",
    "        t += n\n",
    "    return t\n",
    "\n",
    "\n",
    "# Chinese Remainder Theorem\n",
    "def CRT(av, nv):\n",
    "    s = 0\n",
    "    N = 1\n",
    "    for n in nv:\n",
    "        N *= n\n",
    "    for a, n in zip(av, nv):\n",
    "        p = N//n\n",
    "        s += a*euclid_inverse(p, n)*p\n",
    "    return s%N\n",
    "\n",
    "\n",
    "def solve2(busses):\n",
    "    av = []\n",
    "    nv = []\n",
    "    for i, b in enumerate(busses):\n",
    "        if b == 'x':\n",
    "            continue\n",
    "        av.append(-i)\n",
    "        nv.append(int(b))\n",
    "    return CRT(av, nv)"
   ]
  },
  {
   "cell_type": "code",
   "execution_count": 58,
   "metadata": {},
   "outputs": [
    {
     "data": {
      "text/plain": [
       "526090562196173"
      ]
     },
     "execution_count": 58,
     "metadata": {},
     "output_type": "execute_result"
    }
   ],
   "source": [
    "solve2(busses)"
   ]
  },
  {
   "cell_type": "markdown",
   "metadata": {},
   "source": [
    "### Day 14"
   ]
  },
  {
   "cell_type": "code",
   "execution_count": 59,
   "metadata": {},
   "outputs": [],
   "source": [
    "def load_input14(fname):\n",
    "    with open(fname) as inf:\n",
    "        return [x.strip() for x in inf]\n",
    "\n",
    "def solve1(lines):\n",
    "    and_mask = 2**36-1\n",
    "    or_mask = 0\n",
    "    mem = {}\n",
    "    for line in lines:\n",
    "        line = line.strip()\n",
    "        if not line:\n",
    "            continue\n",
    "        k, v = [x.strip() for x in line.strip().split('=')]\n",
    "        if k == 'mask':\n",
    "            and_mask = int(v.replace('X', '1'), 2)\n",
    "            or_mask = int(v.replace('X', '0'), 2)\n",
    "            continue\n",
    "        if k.startswith('mem['):\n",
    "            loc = int(k[4:-1])\n",
    "            vv = int(v)\n",
    "            mem[loc] = ((vv&and_mask)|or_mask)\n",
    "    return sum(v for v in mem.values())"
   ]
  },
  {
   "cell_type": "code",
   "execution_count": 60,
   "metadata": {},
   "outputs": [],
   "source": [
    "lines = load_input14('/home/marek/Downloads/input_day14.txt')"
   ]
  },
  {
   "cell_type": "code",
   "execution_count": 61,
   "metadata": {},
   "outputs": [
    {
     "data": {
      "text/plain": [
       "14839536808842"
      ]
     },
     "execution_count": 61,
     "metadata": {},
     "output_type": "execute_result"
    }
   ],
   "source": [
    "solve1(lines)"
   ]
  },
  {
   "cell_type": "code",
   "execution_count": 62,
   "metadata": {},
   "outputs": [],
   "source": [
    "def mask_intersection(a1, a2):\n",
    "    if not a1 or not a2:\n",
    "        return ''\n",
    "    r = []\n",
    "    for a, b in zip(a1, a2):\n",
    "        if a == 'X':\n",
    "            r.append(b)\n",
    "            continue\n",
    "        if b == 'X':\n",
    "            r.append(a)\n",
    "            continue\n",
    "        if a == b:\n",
    "            r.append(a)\n",
    "            continue\n",
    "        return ''\n",
    "    return ''.join(r)\n",
    "\n",
    "def intersection(rl):\n",
    "    if not rl:\n",
    "        return ''\n",
    "    v = rl[0]\n",
    "    for vv in rl[1:]:\n",
    "        v = mask_intersection(v, vv)\n",
    "    return v\n",
    "\n",
    "def count(mask):\n",
    "    if not mask:\n",
    "        return 0\n",
    "    return 2**mask.count('X')\n",
    "\n",
    "@attr.s\n",
    "class Set:\n",
    "    base = attr.ib()\n",
    "    val = attr.ib()\n",
    "    removed = attr.ib(default=attr.Factory(set))\n",
    "    \n",
    "    # exclusion-inclusion principle\n",
    "    def num_elements(self):\n",
    "        tot = count(self.base)\n",
    "        m = -1\n",
    "        i = 1\n",
    "        for i in range(1, len(self.removed) + 1):\n",
    "            for comb in combinations(self.removed, i):\n",
    "                cnt = count(intersection(comb))\n",
    "                tot += m*cnt\n",
    "            m = -m\n",
    "        return tot\n",
    "    \n",
    "    def value(self):\n",
    "        return self.num_elements()*self.val\n",
    "    \n",
    "def apply_mask(m, addr):\n",
    "    r = []\n",
    "    for a, b in zip(m, addr):\n",
    "        if a != '0':\n",
    "            r.append(a)\n",
    "            continue\n",
    "        r.append(b)\n",
    "    return ''.join(r)\n",
    "\n",
    "def run(lines):\n",
    "    mask = '0'*36\n",
    "    sets = {}\n",
    "    for line in lines:\n",
    "        line = line.strip()\n",
    "        if not line:\n",
    "            continue\n",
    "        k, v = [x.strip() for x in line.strip().split('=')]\n",
    "        if k == 'mask':\n",
    "            mask = v\n",
    "            continue\n",
    "        if k.startswith('mem['):\n",
    "            loc = int(k[4:-1])\n",
    "            vv = int(v)\n",
    "            loc = apply_mask(mask, ('%36s' % (bin(loc)[2:])).replace(' ', '0'))\n",
    "            for s in sets.values():\n",
    "                ints = mask_intersection(s.base, loc)\n",
    "                if ints:\n",
    "                    s.removed.add(ints)\n",
    "            sets[loc] = Set(loc, vv)\n",
    "    return sum(s.value() for s in sets.values())"
   ]
  },
  {
   "cell_type": "code",
   "execution_count": 63,
   "metadata": {},
   "outputs": [
    {
     "data": {
      "text/plain": [
       "4215284199669"
      ]
     },
     "execution_count": 63,
     "metadata": {},
     "output_type": "execute_result"
    }
   ],
   "source": [
    "run(lines)"
   ]
  },
  {
   "cell_type": "markdown",
   "metadata": {},
   "source": [
    "### Day 15"
   ]
  },
  {
   "cell_type": "code",
   "execution_count": 1,
   "metadata": {},
   "outputs": [],
   "source": [
    "class History:\n",
    "    def __init__(self):\n",
    "        self.past = {}\n",
    "        self.current = 0\n",
    "        self.last_num = None\n",
    "    def push(self, num):\n",
    "        if self.last_num is not None:\n",
    "            self.past[self.last_num] = self.current\n",
    "        self.current += 1\n",
    "        self.last_num = num\n",
    "    def nextn(self):\n",
    "        lt = self.past.get(self.last_num, self.current)\n",
    "        return self.current - lt\n",
    "# This is slow, but fast enough for 30M\n",
    "def solution1(starting, et=2020):\n",
    "    h = History()\n",
    "    for s in starting:\n",
    "        h.push(s)\n",
    "    while h.current < et:\n",
    "        h.push(h.nextn())\n",
    "    return h.last_num"
   ]
  },
  {
   "cell_type": "code",
   "execution_count": 2,
   "metadata": {},
   "outputs": [
    {
     "data": {
      "text/plain": [
       "639"
      ]
     },
     "execution_count": 2,
     "metadata": {},
     "output_type": "execute_result"
    }
   ],
   "source": [
    "solution1([11,18,0,20,1,7,16])"
   ]
  },
  {
   "cell_type": "code",
   "execution_count": 3,
   "metadata": {},
   "outputs": [
    {
     "data": {
      "text/plain": [
       "266"
      ]
     },
     "execution_count": 3,
     "metadata": {},
     "output_type": "execute_result"
    }
   ],
   "source": [
    "solution1([11,18,0,20,1,7,16], 30000000)"
   ]
  },
  {
   "cell_type": "markdown",
   "metadata": {},
   "source": [
    "### Day 16"
   ]
  },
  {
   "cell_type": "code",
   "execution_count": 2,
   "metadata": {},
   "outputs": [],
   "source": [
    "def load_input16(fname):\n",
    "    with open(fname) as inf:\n",
    "        return [x.strip() for x in inf]\n",
    "    \n",
    "@attr.s\n",
    "class Rule:\n",
    "    name = attr.ib()\n",
    "    ranges = attr.ib()\n",
    "    \n",
    "    def valid(self, num):\n",
    "        return any(r0 <= num <= r1 for (r0, r1) in self.ranges)\n",
    "    \n",
    "def good_positions(rules, num):\n",
    "    return {i for i, rule in enumerate(rules) if rule.valid(num)}\n",
    "\n",
    "def parse_line(line):\n",
    "    name, r = line.split(':')\n",
    "    ranges = []\n",
    "    for f in r.split(' or '):\n",
    "        r0, r1 = [int(x.strip()) for x in f.split('-')]\n",
    "        ranges.append((r0, r1))\n",
    "    return Rule(name=name, ranges=ranges)\n",
    "\n",
    "def parse_lines(lines):\n",
    "    rules = []\n",
    "    i = 0\n",
    "    while i < len(lines):\n",
    "        line = lines[i]\n",
    "        i += 1\n",
    "        if not line:\n",
    "            break\n",
    "        rules.append(parse_line(line))\n",
    "    if lines[i] != 'your ticket:':\n",
    "        raise Exception('huh?')\n",
    "    i += 1\n",
    "    your_ticket = [int(x) for x in lines[i].split(',')]\n",
    "    i += 2\n",
    "    if lines[i] != 'nearby tickets:':\n",
    "        raise Exception('huh?')\n",
    "    nearby_tickets = []\n",
    "    i += 1\n",
    "    while i < len(lines):\n",
    "        if not lines[i]:\n",
    "            break\n",
    "        nearby_tickets.append([int(x) for x in lines[i].split(',')])\n",
    "        i += 1\n",
    "    return rules, your_ticket, nearby_tickets\n",
    "\n",
    "def valid1(num, rules):\n",
    "    return any(rule.valid(num) for rule in rules)\n",
    "\n",
    "def solve1(rules, your_ticket, nearby_tickets):\n",
    "    s = 0\n",
    "    for t in nearby_tickets:\n",
    "        s += sum(num for num in t if not valid1(num, rules))\n",
    "    return s\n",
    "\n",
    "def valid_ticket(ticket, rules):\n",
    "    return all(valid1(num, rules) for num in ticket)\n",
    "\n",
    "def solve2(rules, your_ticket, nearby_tickets):\n",
    "    nr = len(rules)\n",
    "    pos = [set(range(nr)) for i in range(nr)]\n",
    "    for t in nearby_tickets:\n",
    "        if not valid_ticket(t, rules):\n",
    "            continue\n",
    "        tp = [good_positions(rules, num) for num in t]\n",
    "        for pos_s, tp_s in zip(pos, tp):\n",
    "            pos_s.intersection_update(tp_s)\n",
    "    q = deque()\n",
    "    for i, p in enumerate(pos):\n",
    "        if len(p) == 1:\n",
    "            q.append(i)\n",
    "    while q:\n",
    "        i = q.popleft()\n",
    "        for j, p in enumerate(pos):\n",
    "            if len(p) > 1:\n",
    "                p.difference_update(pos[i])\n",
    "                if len(p) == 1:\n",
    "                    q.append(j)\n",
    "    if any(len(p) != 1 for p in pos):\n",
    "        raise Exception('wtf?')\n",
    "    trans = [p.pop() for p in pos]\n",
    "    r = 1\n",
    "    for i, v in enumerate(your_ticket):\n",
    "        rn = trans[i]\n",
    "        if rules[rn].name.startswith('departure'):\n",
    "            r *= v\n",
    "    return r"
   ]
  },
  {
   "cell_type": "code",
   "execution_count": 3,
   "metadata": {},
   "outputs": [],
   "source": [
    "lines = load_input16('/home/marek/Downloads/input_day16.txt')"
   ]
  },
  {
   "cell_type": "code",
   "execution_count": 4,
   "metadata": {},
   "outputs": [],
   "source": [
    "rules, your_ticket, nearby_tickets = parse_lines(lines)"
   ]
  },
  {
   "cell_type": "code",
   "execution_count": 5,
   "metadata": {},
   "outputs": [
    {
     "data": {
      "text/plain": [
       "27870"
      ]
     },
     "execution_count": 5,
     "metadata": {},
     "output_type": "execute_result"
    }
   ],
   "source": [
    "solve1(rules, your_ticket, nearby_tickets)"
   ]
  },
  {
   "cell_type": "code",
   "execution_count": 6,
   "metadata": {},
   "outputs": [
    {
     "data": {
      "text/plain": [
       "3173135507987"
      ]
     },
     "execution_count": 6,
     "metadata": {},
     "output_type": "execute_result"
    }
   ],
   "source": [
    "solve2(rules, your_ticket, nearby_tickets)"
   ]
  },
  {
   "cell_type": "markdown",
   "metadata": {},
   "source": [
    "### Day 17"
   ]
  },
  {
   "cell_type": "code",
   "execution_count": 1,
   "metadata": {},
   "outputs": [],
   "source": [
    "def load_day17(fname):\n",
    "    with open(fname) as inf:\n",
    "        return [x.strip() for x in inf]\n",
    "    \n",
    "def gen_offsets(d):\n",
    "    \n",
    "    def gen_offsets_rec(d):\n",
    "        if d == 0:\n",
    "            if any(bool(x) for x in current):\n",
    "                offset_list.append(tuple(current))\n",
    "            return\n",
    "        for r in [-1, 0, 1]:\n",
    "            current.append(r)\n",
    "            gen_offsets_rec(d - 1)\n",
    "            current.pop()\n",
    "            \n",
    "    current = []\n",
    "    offset_list = []\n",
    "    gen_offsets_rec(d)\n",
    "    return offset_list\n",
    "\n",
    "def create_cubes(lines, d):\n",
    "    f = [0]*(d - 2)\n",
    "    cubes = set()\n",
    "    R = len(lines)\n",
    "    C = len(lines[0])\n",
    "    for r in range(R):\n",
    "        for c in range(C):\n",
    "            if lines[r][c] == '#':\n",
    "                cubes.add(tuple([r, c, *f]))\n",
    "    return cubes\n",
    "\n",
    "def one_step(cubes, offsets):\n",
    "    ncubes = set()\n",
    "    empties = set()\n",
    "    for cube in cubes:\n",
    "        ac = 0\n",
    "        for off in offsets:\n",
    "            nb = tuple(x + y for x, y in zip(cube, off))\n",
    "            if nb in cubes:\n",
    "                ac += 1\n",
    "            else:\n",
    "                empties.add(nb)\n",
    "        if ac == 2 or ac == 3:\n",
    "            ncubes.add(cube)\n",
    "    for cube in empties:\n",
    "        ac = 0\n",
    "        for off in offsets:\n",
    "            nb = tuple(x + y for x, y in zip(cube, off))\n",
    "            if nb in cubes:\n",
    "                ac += 1\n",
    "        if ac == 3:\n",
    "            ncubes.add(cube)\n",
    "    return ncubes\n",
    "\n",
    "def simulate(lines, steps, d):\n",
    "    cubes = create_cubes(lines, d)\n",
    "    offsets = gen_offsets(d)\n",
    "    for _ in range(steps):\n",
    "        cubes = one_step(cubes, offsets)\n",
    "    return cubes"
   ]
  },
  {
   "cell_type": "code",
   "execution_count": 2,
   "metadata": {},
   "outputs": [],
   "source": [
    "lines = load_day17('/home/marek/Downloads/input_day17.txt')"
   ]
  },
  {
   "cell_type": "code",
   "execution_count": 3,
   "metadata": {},
   "outputs": [
    {
     "data": {
      "text/plain": [
       "271"
      ]
     },
     "execution_count": 3,
     "metadata": {},
     "output_type": "execute_result"
    }
   ],
   "source": [
    "len(simulate(lines, 6, 3))"
   ]
  },
  {
   "cell_type": "code",
   "execution_count": 4,
   "metadata": {},
   "outputs": [
    {
     "data": {
      "text/plain": [
       "2064"
      ]
     },
     "execution_count": 4,
     "metadata": {},
     "output_type": "execute_result"
    }
   ],
   "source": [
    "len(simulate(lines, 6, 4))"
   ]
  },
  {
   "cell_type": "markdown",
   "metadata": {},
   "source": [
    "### Day 18"
   ]
  },
  {
   "cell_type": "code",
   "execution_count": 1,
   "metadata": {},
   "outputs": [],
   "source": [
    "def load_input18(fname):\n",
    "    with open(fname) as inf:\n",
    "        return [x.strip() for x in inf]\n",
    "    \n",
    "class Expr:\n",
    "    def __init__(self, line):\n",
    "        self.tokens = []\n",
    "        for f in line.split():\n",
    "            while f.startswith('('):\n",
    "                self.tokens.append('(')\n",
    "                f = f[1:]\n",
    "            cl = []\n",
    "            while f.endswith(')'):\n",
    "                cl.append(')')\n",
    "                f = f[:-1]\n",
    "            if f.isdigit():\n",
    "                self.tokens.append(int(f))\n",
    "            else:\n",
    "                self.tokens.append(f)\n",
    "            self.tokens.extend(cl)\n",
    "        self.current = 0\n",
    "    def get_next(self):\n",
    "        if self.current < len(self.tokens):\n",
    "            r = self.tokens[self.current]\n",
    "            self.current += 1\n",
    "            return r\n",
    "        return None\n",
    "\n",
    "def eval_expr2(e, mult_pr, add_pr):\n",
    "    rpn = []\n",
    "    stack = []\n",
    "    priorities = {'*': mult_pr, '+': add_pr, '(': 0}\n",
    "    operators = {'+', '*'}\n",
    "    while True:\n",
    "        tok = e.get_next()\n",
    "        if tok is None:\n",
    "            break\n",
    "        if tok in operators:\n",
    "            pr = priorities[tok]\n",
    "            while stack and priorities[stack[-1]] >= pr:\n",
    "                rpn.append(stack[-1])\n",
    "                stack.pop()\n",
    "            stack.append(tok)\n",
    "            continue\n",
    "        if tok == '(':\n",
    "            stack.append(tok)\n",
    "            continue\n",
    "        if tok == ')':\n",
    "            while stack and stack[-1] != '(':\n",
    "                rpn.append(stack[-1])\n",
    "                stack.pop()\n",
    "            if stack:\n",
    "                stack.pop()\n",
    "            continue\n",
    "        rpn.append(tok)\n",
    "    while stack:\n",
    "        rpn.append(stack[-1])\n",
    "        stack.pop()\n",
    "    for tok in rpn:\n",
    "        if tok in ['+', '*']:\n",
    "            a = stack[-1]\n",
    "            b = stack[-2]\n",
    "            stack.pop()\n",
    "            if tok == '+':\n",
    "                stack[-1] = a + b\n",
    "            else:\n",
    "                stack[-1] = a*b\n",
    "        else:\n",
    "            stack.append(tok)\n",
    "    assert len(stack) == 1\n",
    "    return stack[0]\n",
    "    \n",
    "def solve1(lines):\n",
    "    s = 0\n",
    "    for line in lines:\n",
    "        s += eval_expr2(Expr(line), 1, 1)\n",
    "    return s\n",
    "\n",
    "def solve2(lines):\n",
    "    s = 0\n",
    "    for line in lines:\n",
    "        s += eval_expr2(Expr(line), 1, 2)\n",
    "    return s"
   ]
  },
  {
   "cell_type": "code",
   "execution_count": 2,
   "metadata": {},
   "outputs": [],
   "source": [
    "lines = load_input18('/home/marek/Downloads/input_day18.txt')"
   ]
  },
  {
   "cell_type": "code",
   "execution_count": 3,
   "metadata": {},
   "outputs": [
    {
     "data": {
      "text/plain": [
       "701339185745"
      ]
     },
     "execution_count": 3,
     "metadata": {},
     "output_type": "execute_result"
    }
   ],
   "source": [
    "solve1(lines)"
   ]
  },
  {
   "cell_type": "code",
   "execution_count": 4,
   "metadata": {},
   "outputs": [
    {
     "data": {
      "text/plain": [
       "4208490449905"
      ]
     },
     "execution_count": 4,
     "metadata": {},
     "output_type": "execute_result"
    }
   ],
   "source": [
    "solve2(lines)"
   ]
  },
  {
   "cell_type": "markdown",
   "metadata": {},
   "source": [
    "### Day 19"
   ]
  },
  {
   "cell_type": "code",
   "execution_count": 2,
   "metadata": {},
   "outputs": [],
   "source": [
    "def load_input19(fname):\n",
    "    with open(fname) as inf:\n",
    "        return [x.strip() for x in inf]\n",
    "\n",
    "@attr.s(slots=True)\n",
    "class Rule:\n",
    "    nonterm = attr.ib()\n",
    "    term = attr.ib()\n",
    "    num = attr.ib()\n",
    "    \n",
    "@attr.s(slots=True)\n",
    "class Rules:\n",
    "    rules = attr.ib()\n",
    "    num = attr.ib()\n",
    "    \n",
    "def create_rules(lines):\n",
    "    i = 0\n",
    "    rules = {}\n",
    "    while i < len(lines):\n",
    "        line = lines[i]\n",
    "        if not line:\n",
    "            break\n",
    "        rn, rest = line.split(':', 1)\n",
    "        rn = int(rn)\n",
    "        fields = rest.split('|')\n",
    "        for f in fields:\n",
    "            ff = f.split()\n",
    "            if len(ff) == 1 and ff[0].startswith('\"'):\n",
    "                rr = Rule([], ff[0].strip('\"'), rn)\n",
    "                try:\n",
    "                    rs = rules[rn]\n",
    "                except KeyError:\n",
    "                    rs = rules[rn] = Rules([], rn)\n",
    "                rs.rules.append(rr)\n",
    "                continue\n",
    "            rr = Rule([int(x) for x in ff], None, rn)\n",
    "            try:\n",
    "                rs = rules[rn]\n",
    "            except KeyError:\n",
    "                rs = rules[rn] = Rules([], rn)\n",
    "            rs.rules.append(rr)\n",
    "        i += 1\n",
    "    i += 1\n",
    "    return rules, lines[i:]\n",
    "\n",
    "def clean_up_rules(rules):\n",
    "    for rs in rules.values():\n",
    "        changed = True\n",
    "        visited = set()\n",
    "        while changed:\n",
    "            changed = False\n",
    "            for i, rule in enumerate(rs.rules):\n",
    "                if len(rule.nonterm) == 1:\n",
    "                    if rule.nonterm[0] in visited:\n",
    "                        raise Exception('Useless cycle')\n",
    "                    visited.add(rule.nonterm[0])\n",
    "                    repl = rules[rule.nonterm[0]]\n",
    "                    new_rules = [Rule(r.nonterm.copy(), r.term, rs.num) for r in repl.rules]\n",
    "                    rs.rules = rs.rules[:i] + new_rules + rs.rules[i + 1:]\n",
    "                    changed = True\n",
    "                    break\n",
    "    next_val = max(rules.keys()) + 1\n",
    "    to_add = []\n",
    "    for rs in rules.values():\n",
    "        for rule in rs.rules:\n",
    "            while len(rule.nonterm) > 2:\n",
    "                rr = Rule([rule.nonterm[-2], rule.nonterm[-1]], None, next_val)\n",
    "                to_add.append(Rules([rr], next_val))\n",
    "                rule.nonterm.pop()\n",
    "                rule.nonterm[-1] = next_val\n",
    "                next_val += 1\n",
    "    for rs in to_add:\n",
    "        rules[rs.num] = rs\n",
    "        \n",
    "def split_rules(rules):\n",
    "    term_to_rule = defaultdict(list)\n",
    "    nt_rules = []\n",
    "    for rs in rules.values():\n",
    "        for rule in rs.rules:\n",
    "            if rule.term is not None:\n",
    "                term_to_rule[rule.term].append(rule)\n",
    "            else:\n",
    "                nt_rules.append(rule)\n",
    "    return term_to_rule, nt_rules\n",
    "\n",
    "def computeR(rules):\n",
    "    return max(rules.keys()) + 1\n",
    "\n",
    "def cyk_algo(word, term_to_rule, nt_rules, R):\n",
    "    n = len(word)\n",
    "    P = np.zeros((n, n, R), dtype=np.int16)\n",
    "    for s in range(n):\n",
    "        for r in term_to_rule[word[s]]:\n",
    "            P[0, s, r.num] = 1\n",
    "    for l in range(2, n + 1):\n",
    "        for s in range(1, n - l + 2):\n",
    "            for p in range(1, l):\n",
    "                for rr in nt_rules:\n",
    "                    a = rr.num\n",
    "                    b = rr.nonterm[0]\n",
    "                    c = rr.nonterm[1]\n",
    "                    if P[p - 1, s - 1, b] and P[l - p - 1, s + p - 1, c]:\n",
    "                        P[l - 1, s - 1, a] = 1\n",
    "    return P[n - 1, 0, 0]"
   ]
  },
  {
   "cell_type": "code",
   "execution_count": 3,
   "metadata": {},
   "outputs": [],
   "source": [
    "lines = load_input19('/home/marek/Downloads/input_day19.txt')"
   ]
  },
  {
   "cell_type": "code",
   "execution_count": 4,
   "metadata": {},
   "outputs": [],
   "source": [
    "rules, words = create_rules(lines)\n",
    "clean_up_rules(rules)\n",
    "term_to_rule, nt_rules = split_rules(rules)\n",
    "R = computeR(rules)"
   ]
  },
  {
   "cell_type": "code",
   "execution_count": 5,
   "metadata": {},
   "outputs": [
    {
     "data": {
      "text/plain": [
       "132"
      ]
     },
     "execution_count": 5,
     "metadata": {},
     "output_type": "execute_result"
    }
   ],
   "source": [
    "# This takes forever...\n",
    "sum(cyk_algo(word, term_to_rule, nt_rules, R) for word in words)"
   ]
  },
  {
   "cell_type": "code",
   "execution_count": 6,
   "metadata": {},
   "outputs": [],
   "source": [
    "lines[20] = \"8: 42 | 42 8\"\n",
    "lines[121] = \"11: 42 31 | 42 11 31\""
   ]
  },
  {
   "cell_type": "code",
   "execution_count": 7,
   "metadata": {},
   "outputs": [],
   "source": [
    "rules, words = create_rules(lines)\n",
    "clean_up_rules(rules)\n",
    "term_to_rule, nt_rules = split_rules(rules)\n",
    "R = computeR(rules)"
   ]
  },
  {
   "cell_type": "code",
   "execution_count": 8,
   "metadata": {},
   "outputs": [
    {
     "data": {
      "text/plain": [
       "306"
      ]
     },
     "execution_count": 8,
     "metadata": {},
     "output_type": "execute_result"
    }
   ],
   "source": [
    "# This takes forever...\n",
    "sum(cyk_algo(word, term_to_rule, nt_rules, R) for word in words)"
   ]
  },
  {
   "cell_type": "markdown",
   "metadata": {},
   "source": [
    "### Day 20"
   ]
  },
  {
   "cell_type": "code",
   "execution_count": 2,
   "metadata": {},
   "outputs": [],
   "source": [
    "def load_input20(fname):\n",
    "    with open(fname) as inf:\n",
    "        return [x.strip() for x in inf]\n",
    "    \n",
    "def rev(x):\n",
    "    x = (((x&0xaaaa) >> 1) | ((x&0x5555) << 1))\n",
    "    x = (((x&0xcccc) >> 2) | ((x&0x3333) << 2))\n",
    "    x = (((x&0xf0f0) >> 4) | ((x&0x0f0f) << 4))\n",
    "    x = (((x&0xff00) >> 8) | ((x&0x00ff) << 8))\n",
    "    return (x >> 6)&0x3ff\n",
    "\n",
    "def rotate_pos(top, left, bottom, right):\n",
    "    return right, rev(top), left, rev(bottom)\n",
    "\n",
    "def flip_pos(top, left, bottom, right):\n",
    "    return bottom, rev(left), top, rev(right)\n",
    "\n",
    "def vflip_pos(top, left, bottom, right):\n",
    "    return rev(top), right, rev(bottom), left\n",
    "\n",
    "def rotate_insides(lines):\n",
    "    n = len(lines[0])\n",
    "    return [''.join(line[i] for line in lines) for i in range(n - 1, -1, -1)]\n",
    "\n",
    "def flip_insides(lines):\n",
    "    return lines[::-1]\n",
    "\n",
    "def get_insides(lines):\n",
    "    return [line[1:-1] for line in lines[1:-1]]\n",
    "\n",
    "\n",
    "class Tile:\n",
    "    def __init__(self, tid, lines):\n",
    "        assert len(lines) == 10\n",
    "        assert all(len(line) == 10 for line in lines)\n",
    "        self.tid = tid\n",
    "        self.used = False\n",
    "        top = int(lines[0].replace('.', '0').replace('#', '1'), 2)\n",
    "        bottom = int(lines[-1].replace('.', '0').replace('#', '1'), 2)\n",
    "        left = int(''.join(line[0] for line in lines).replace('.', '0').replace('#', '1'), 2)\n",
    "        right = int(''.join(line[-1] for line in lines).replace('.', '0').replace('#', '1'), 2)\n",
    "        x = top, left, bottom, right\n",
    "        insides = get_insides(lines)\n",
    "        pos = [x]\n",
    "        insides_list = [insides]\n",
    "        for i in range(3):\n",
    "            x = rotate_pos(*x)\n",
    "            pos.append(x)\n",
    "            insides = rotate_insides(insides)\n",
    "            insides_list.append(insides)\n",
    "        x = flip_pos(*pos[0])\n",
    "        pos.append(x)\n",
    "        insides = flip_insides(insides_list[0])\n",
    "        insides_list.append(insides)\n",
    "        for i in range(3):\n",
    "            x = rotate_pos(*x)\n",
    "            pos.append(x)\n",
    "            insides = rotate_insides(insides)\n",
    "            insides_list.append(insides)\n",
    "        self.pos = pos\n",
    "        self.insides_list = insides_list\n",
    "        \n",
    "\n",
    "class Tiles:\n",
    "    def __init__(self):\n",
    "        self.by_id = {}\n",
    "        self.tops = defaultdict(list)\n",
    "        self.lefts = defaultdict(list)\n",
    "        self.top_lefts = defaultdict(list)\n",
    "        \n",
    "    def add(self, tile):\n",
    "        self.by_id[tile.tid] = tile\n",
    "        for i, x in enumerate(tile.pos):\n",
    "            self.tops[x[0]].append((tile.tid, i))\n",
    "            self.lefts[x[1]].append((tile.tid, i))\n",
    "            self.top_lefts[(x[0], x[1])].append((tile.tid, i))\n",
    "            \n",
    "    def clear_used(self):\n",
    "        for tile in self.by_id.values():\n",
    "            tile.used = False\n",
    "            \n",
    "    def get_matching(self, top, left):\n",
    "        if left is None and top is None:\n",
    "            tiles = []\n",
    "            for tile in self.by_id.values():\n",
    "                for i in range(len(tile.pos)):\n",
    "                    tiles.append((tile, i))\n",
    "        elif left is None:\n",
    "            tiles = [(self.by_id[tid], i) for (tid, i) in self.tops[top]]\n",
    "        elif top is None:\n",
    "            tiles = [(self.by_id[tid], i) for (tid, i) in self.lefts[left]]\n",
    "        else:\n",
    "            tiles = [(self.by_id[tid], i) for (tid, i) in self.top_lefts[(top, left)]]\n",
    "        return [(t, i) for (t, i) in tiles if not t.used]\n",
    "    \n",
    "\n",
    "def create_tiles(lines):\n",
    "    tiles = Tiles()\n",
    "    current = []\n",
    "    current_tid = None\n",
    "    for line in lines:\n",
    "        if not line:\n",
    "            if current_tid is not None:\n",
    "                tiles.add(Tile(current_tid, current))\n",
    "                current_tid = None\n",
    "                current = []\n",
    "            continue\n",
    "        if line.startswith('Tile '):\n",
    "            current_tid = int(line[5:-1])\n",
    "            continue\n",
    "        current.append(line)\n",
    "    if current_tid is not None:\n",
    "        tiles.add(Tile(current_tid, current))\n",
    "    return tiles\n",
    "\n",
    "\n",
    "def search(tiles, R, C):\n",
    "    \n",
    "    def search_rec(sr, sc):\n",
    "        if sr > 0:\n",
    "            t, i = board[sr - 1][sc]\n",
    "            req_top = t.pos[i][2]\n",
    "        else:\n",
    "            req_top = None\n",
    "        if sc > 0:\n",
    "            t, i = board[sr][sc - 1]\n",
    "            req_left = t.pos[i][3]\n",
    "        else:\n",
    "            req_left = None\n",
    "        T = tiles.get_matching(req_top, req_left)\n",
    "        for t, i in T:\n",
    "            board[sr][sc] = (t, i)\n",
    "            t.used = True\n",
    "            if sc < C - 1:\n",
    "                if search_rec(sr, sc + 1):\n",
    "                    return True\n",
    "            elif sr < R - 1:\n",
    "                if search_rec(sr + 1, 0):\n",
    "                    return True\n",
    "            else:\n",
    "                return True\n",
    "            t.used = False\n",
    "        return False\n",
    "    \n",
    "    def assemble_pic():\n",
    "        res = []\n",
    "        for r in range(R):\n",
    "            to_complete = [[] for _ in range(8)]\n",
    "            for c in range(C):\n",
    "                t, i = board[r][c]\n",
    "                image = t.insides_list[i]\n",
    "                for k, il in enumerate(image):\n",
    "                    to_complete[k].append(il)\n",
    "            res.extend(''.join(row) for row in to_complete)\n",
    "        return res\n",
    "    \n",
    "    tiles.clear_used()\n",
    "    board = [[(None, None)]*C for _ in range(R)]\n",
    "    if search_rec(0, 0):\n",
    "        res = 1\n",
    "        for r, c in [(0, 0), (0, C - 1), (R - 1, 0), (R - 1, C - 1)]:\n",
    "            res *= board[r][c][0].tid\n",
    "        return res, assemble_pic()\n",
    "    return None, None\n",
    "\n",
    "\n",
    "def normalize_monster(coords):\n",
    "    minR = min(r for (r, c) in coords)\n",
    "    minC = min(c for (r, c) in coords)\n",
    "    return [(r - minR, c - minC) for (r, c) in coords]\n",
    "    \n",
    "def build_monster(lines):\n",
    "    coords = []\n",
    "    for r, line in enumerate(lines):\n",
    "        for c, ch in enumerate(line):\n",
    "            if ch == '#':\n",
    "                coords.append((r, c))\n",
    "    return normalize_monster(coords)\n",
    "\n",
    "def rotate_monster(coords):\n",
    "    coords = [(-y, x) for (x, y) in coords]\n",
    "    return normalize_monster(coords)\n",
    "\n",
    "def flip_monster(coords):\n",
    "    coords = [(-x, y) for (x, y) in coords]\n",
    "    return normalize_monster(coords)\n",
    "\n",
    "def all_monsters(coords):\n",
    "    r = [coords]\n",
    "    for _ in range(3):\n",
    "        coords = rotate_monster(coords)\n",
    "        r.append(coords)\n",
    "    coords = flip_monster(r[0])\n",
    "    r.append(coords)\n",
    "    for _ in range(3):\n",
    "        coords = rotate_monster(coords)\n",
    "        r.append(coords)\n",
    "    return r\n",
    "\n",
    "def found_monster(image, coords, r, c):\n",
    "    R = len(image)\n",
    "    C = len(image[0])\n",
    "    for x, y in coords:\n",
    "        nr = r + x\n",
    "        nc = c + y\n",
    "        if nr < 0 or nr >= R or nc < 0 or nc >= C:\n",
    "            return False\n",
    "        if image[nr][nc] != '#':\n",
    "            return False\n",
    "    return True\n",
    "\n",
    "def match_monster(monster, image):\n",
    "    monsters = all_monsters(build_monster(monster))\n",
    "    res = [list(line) for line in image]\n",
    "    R = len(image)\n",
    "    C = len(image[0])\n",
    "    for m in monsters:\n",
    "        for r in range(R):\n",
    "            for c in range(C):\n",
    "                if found_monster(image, m, r, c):\n",
    "                    for x, y in m:\n",
    "                        res[r + x][c + y] = 'O'\n",
    "    return sum(row.count('#') for row in res)\n",
    "\n",
    "MONSTER = \"\"\"                  # \n",
    "#    ##    ##    ###\n",
    " #  #  #  #  #  #   \n",
    "\"\"\".splitlines()"
   ]
  },
  {
   "cell_type": "code",
   "execution_count": 3,
   "metadata": {},
   "outputs": [],
   "source": [
    "lines = load_input20('/home/marek/Downloads/input_day20.txt')"
   ]
  },
  {
   "cell_type": "code",
   "execution_count": 4,
   "metadata": {},
   "outputs": [],
   "source": [
    "tiles = create_tiles(lines)"
   ]
  },
  {
   "cell_type": "code",
   "execution_count": 5,
   "metadata": {},
   "outputs": [],
   "source": [
    "score, image = search(tiles, 12, 12)"
   ]
  },
  {
   "cell_type": "code",
   "execution_count": 6,
   "metadata": {},
   "outputs": [
    {
     "data": {
      "text/plain": [
       "17712468069479"
      ]
     },
     "execution_count": 6,
     "metadata": {},
     "output_type": "execute_result"
    }
   ],
   "source": [
    "# First part\n",
    "score"
   ]
  },
  {
   "cell_type": "code",
   "execution_count": 7,
   "metadata": {},
   "outputs": [
    {
     "data": {
      "text/plain": [
       "2173"
      ]
     },
     "execution_count": 7,
     "metadata": {},
     "output_type": "execute_result"
    }
   ],
   "source": [
    "# Second part\n",
    "match_monster(MONSTER, image)"
   ]
  },
  {
   "cell_type": "markdown",
   "metadata": {},
   "source": [
    "### Day 21"
   ]
  },
  {
   "cell_type": "code",
   "execution_count": 2,
   "metadata": {},
   "outputs": [],
   "source": [
    "def load_input21(fname):\n",
    "    with open(fname) as inf:\n",
    "        r = []\n",
    "        for line in inf:\n",
    "            line = line.strip()\n",
    "            idx = line.find('(contains')\n",
    "            ings = line[:idx].split()\n",
    "            allgs = [f.strip().rstrip(')') for f in line[idx + 9:].split(',')]\n",
    "            r.append((ings, allgs))\n",
    "    return r\n",
    "\n",
    "def group_allergens(data):\n",
    "    r = {}\n",
    "    for d in data:\n",
    "        for al in d[1]:\n",
    "            if al in r:\n",
    "                r[al].intersection_update(d[0])\n",
    "            else:\n",
    "                r[al] = set(d[0])\n",
    "    q = deque()\n",
    "    for k, v in r.items():\n",
    "        if len(v) == 1:\n",
    "            q.append(k)\n",
    "    while q:\n",
    "        al = q.popleft()\n",
    "        ing = r[al]\n",
    "        for k, v in r.items():\n",
    "            if len(v) > 1:\n",
    "                v.difference_update(ing)\n",
    "                if len(v) == 1:\n",
    "                    q.append(k)\n",
    "    assert all(len(v) == 1 for v in r.values())\n",
    "    return dict((k, list(v)[0]) for (k, v) in r.items())\n",
    "\n",
    "def count1(data, grouped):\n",
    "    bads = set(grouped.values())\n",
    "    s = 0\n",
    "    for d in data:\n",
    "        s += len([ing for ing in d[0] if ing not in bads])\n",
    "    return s\n",
    "\n",
    "def create_list(grouped):\n",
    "    l = list((v, k) for k, v in grouped.items())\n",
    "    l.sort(key=lambda x: x[1])\n",
    "    return ','.join(x[0] for x in l)"
   ]
  },
  {
   "cell_type": "code",
   "execution_count": 3,
   "metadata": {},
   "outputs": [],
   "source": [
    "data = load_input21(\"/home/marek/Downloads/input_day21.txt\")"
   ]
  },
  {
   "cell_type": "code",
   "execution_count": 4,
   "metadata": {},
   "outputs": [],
   "source": [
    "grouped = group_allergens(data)"
   ]
  },
  {
   "cell_type": "code",
   "execution_count": 5,
   "metadata": {},
   "outputs": [
    {
     "data": {
      "text/plain": [
       "2724"
      ]
     },
     "execution_count": 5,
     "metadata": {},
     "output_type": "execute_result"
    }
   ],
   "source": [
    "count1(data, grouped)"
   ]
  },
  {
   "cell_type": "code",
   "execution_count": 6,
   "metadata": {},
   "outputs": [
    {
     "data": {
      "text/plain": [
       "'xlxknk,cskbmx,cjdmk,bmhn,jrmr,tzxcmr,fmgxh,fxzh'"
      ]
     },
     "execution_count": 6,
     "metadata": {},
     "output_type": "execute_result"
    }
   ],
   "source": [
    "create_list(grouped)"
   ]
  },
  {
   "cell_type": "markdown",
   "metadata": {},
   "source": [
    "### Day 22"
   ]
  },
  {
   "cell_type": "code",
   "execution_count": 2,
   "metadata": {},
   "outputs": [],
   "source": [
    "def load_input22(fname):\n",
    "    with open(fname) as inf:\n",
    "        return [x.strip() for x in inf]\n",
    "    \n",
    "def create_decks(lines):\n",
    "    d = []\n",
    "    q = deque()\n",
    "    for line in lines:\n",
    "        if line.startswith('Player'):\n",
    "            continue\n",
    "        if not line:\n",
    "            if q:\n",
    "                d.append(q)\n",
    "                q = deque()\n",
    "            continue\n",
    "        q.append(int(line))\n",
    "    if q:\n",
    "        d.append(q)\n",
    "    return tuple(d)\n",
    "\n",
    "def deck_to_bytes(d):\n",
    "    return bytes(d[0]) + bytes([0]) + bytes(d[1])\n",
    "\n",
    "def play_deck(d, recursive):\n",
    "    visited = set()\n",
    "    while d[0] and d[1]:\n",
    "        b = deck_to_bytes(d)\n",
    "        if b in visited:\n",
    "            return 0\n",
    "        visited.add(b)\n",
    "        p1 = d[0].popleft()\n",
    "        p2 = d[1].popleft()\n",
    "        if recursive and p1 <= len(d[0]) and p2 <= len(d[1]):\n",
    "            new_deck = (deque(list(d[0])[:p1]), deque(list(d[1])[:p2]))\n",
    "            winner = play_deck(new_deck, True)\n",
    "        else:\n",
    "            winner = 0 if p1 > p2 else 1\n",
    "        if winner == 0:\n",
    "            d[0].extend([p1, p2])\n",
    "        else:\n",
    "            d[1].extend([p2, p1])\n",
    "    return 0 if d[0] else 1\n",
    "\n",
    "def score(d):\n",
    "    q = d[0] if d[0] else d[1]\n",
    "    n = len(q)\n",
    "    return sum((n - i)*q[i] for i in range(n))"
   ]
  },
  {
   "cell_type": "code",
   "execution_count": 3,
   "metadata": {},
   "outputs": [],
   "source": [
    "lines = load_input22(\"/home/marek/Downloads/input_day22.txt\")"
   ]
  },
  {
   "cell_type": "code",
   "execution_count": 4,
   "metadata": {},
   "outputs": [
    {
     "data": {
      "text/plain": [
       "32033"
      ]
     },
     "execution_count": 4,
     "metadata": {},
     "output_type": "execute_result"
    }
   ],
   "source": [
    "# First part\n",
    "d = create_decks(lines)\n",
    "play_deck(d, False)\n",
    "score(d)"
   ]
  },
  {
   "cell_type": "code",
   "execution_count": 5,
   "metadata": {},
   "outputs": [
    {
     "data": {
      "text/plain": [
       "34901"
      ]
     },
     "execution_count": 5,
     "metadata": {},
     "output_type": "execute_result"
    }
   ],
   "source": [
    "# Second part\n",
    "d = create_decks(lines)\n",
    "play_deck(d, True)\n",
    "score(d)"
   ]
  },
  {
   "cell_type": "markdown",
   "metadata": {},
   "source": [
    "### Day 23"
   ]
  },
  {
   "cell_type": "code",
   "execution_count": 2,
   "metadata": {},
   "outputs": [],
   "source": [
    "@attr.s(slots=True)\n",
    "class Node:\n",
    "    v = attr.ib()\n",
    "    prev = attr.ib(default=None)\n",
    "    next = attr.ib(default=None)\n",
    "    \n",
    "\n",
    "@attr.s(slots=True)\n",
    "class List:\n",
    "    front = attr.ib(default=None)\n",
    "    end = attr.ib(default=None)\n",
    "    by_value = attr.ib(default=attr.Factory(dict))\n",
    "    \n",
    "    def append(self, node):\n",
    "        if self.front is None:\n",
    "            self.front = self.end = node\n",
    "            node.prev = node.next = None\n",
    "        else:\n",
    "            node.prev = self.end\n",
    "            node.next = None\n",
    "            self.end.next = node\n",
    "            self.end = node\n",
    "        self.by_value[node.v] = node\n",
    "        \n",
    "    def append_after(self, node_before, node):\n",
    "        if node_before == self.end:\n",
    "            self.append(node)\n",
    "            return\n",
    "        node.next = node_before.next\n",
    "        node_before.next = node\n",
    "        node.prev = node_before\n",
    "        node.next.prev = node\n",
    "        self.by_value[node.v] = node\n",
    "        \n",
    "    def remove(self, node):\n",
    "        if node.prev:\n",
    "            node.prev.next = node.next\n",
    "        else:\n",
    "            self.front = node.next\n",
    "        if node.next:\n",
    "            node.next.prev = node.prev\n",
    "        else:\n",
    "            self.end = node.prev\n",
    "            \n",
    "    def maxv(self):\n",
    "        return max(self.by_value.keys())\n",
    "    \n",
    "    def minv(self):\n",
    "        return min(self.by_value.keys())\n",
    "    \n",
    "    def get_next(self, node):\n",
    "        if node.next:\n",
    "            return node.next\n",
    "        return self.front\n",
    "    \n",
    "    \n",
    "def simulate(cups, nr):\n",
    "    M = cups.maxv()\n",
    "    m = cups.minv()\n",
    "    current = cups.front\n",
    "    for i in range(nr):\n",
    "        picked_up = []\n",
    "        for x in range(3):\n",
    "            tp = cups.get_next(current)\n",
    "            picked_up.append(tp)\n",
    "            cups.remove(tp)\n",
    "        pu_values = {n.v for n in picked_up}\n",
    "        dc = current.v - 1\n",
    "        if dc < m:\n",
    "            dc = M\n",
    "        while dc in pu_values:\n",
    "            dc -= 1\n",
    "            if dc < m:\n",
    "                dc = M\n",
    "        dest = cups.by_value[dc]\n",
    "        picked_up.reverse()\n",
    "        for p in picked_up:\n",
    "            cups.append_after(dest, p)\n",
    "        current = cups.get_next(current)\n",
    "        \n",
    "        \n",
    "def solve1(st, nr):\n",
    "    cups = List()\n",
    "    for s in st:\n",
    "        cups.append(Node(int(s)))\n",
    "    simulate(cups, nr)\n",
    "    one = cups.by_value[1]\n",
    "    p = cups.get_next(one)\n",
    "    r = []\n",
    "    while p.v != 1:\n",
    "        r.append(p.v)\n",
    "        p = cups.get_next(p)\n",
    "    return ''.join(str(x) for x in r)\n",
    "\n",
    "\n",
    "def solve2(st, nr):\n",
    "    cl = [int(x) for x in st]\n",
    "    M = max(cl) + 1\n",
    "    cups = List()\n",
    "    for c in cl:\n",
    "        cups.append(Node(c))\n",
    "    for i in range(M, 1000001):\n",
    "        cups.append(Node(i))\n",
    "    simulate(cups, nr)\n",
    "    one = cups.by_value[1]\n",
    "    p1 = cups.get_next(one)\n",
    "    p2 = cups.get_next(p1)\n",
    "    return p1.v*p2.v"
   ]
  },
  {
   "cell_type": "code",
   "execution_count": 3,
   "metadata": {},
   "outputs": [
    {
     "data": {
      "text/plain": [
       "'69852437'"
      ]
     },
     "execution_count": 3,
     "metadata": {},
     "output_type": "execute_result"
    }
   ],
   "source": [
    "# First part\n",
    "solve1('925176834', 100)"
   ]
  },
  {
   "cell_type": "code",
   "execution_count": 4,
   "metadata": {},
   "outputs": [
    {
     "data": {
      "text/plain": [
       "91408386135"
      ]
     },
     "execution_count": 4,
     "metadata": {},
     "output_type": "execute_result"
    }
   ],
   "source": [
    "# Second part - takes forever, but still linear ;)\n",
    "solve2('925176834', 10000000)"
   ]
  },
  {
   "cell_type": "markdown",
   "metadata": {},
   "source": [
    "### Day 24"
   ]
  },
  {
   "cell_type": "code",
   "execution_count": 3,
   "metadata": {},
   "outputs": [],
   "source": [
    "def load_input24(fname):\n",
    "    with open(fname) as inf:\n",
    "        return [x.strip() for x in inf]\n",
    "\n",
    "\n",
    "dirs = {'e': (2, 0), 'se': (1, -3), 'sw': (-1, -3), 'w': (-2, 0), 'nw': (-1, 3), 'ne': (1, 3)}\n",
    "\n",
    "def position(s):\n",
    "    i = 0\n",
    "    n = len(s)\n",
    "    x = y = 0\n",
    "    while i < n:\n",
    "        d = s[i]\n",
    "        if d not in dirs:\n",
    "            i += 1\n",
    "            d += s[i]\n",
    "        i += 1\n",
    "        dx, dy = dirs[d]\n",
    "        x += dx\n",
    "        y += dy\n",
    "    return x, y\n",
    "\n",
    "def solve1(lines):\n",
    "    black_tiles = set()\n",
    "    for line in lines:\n",
    "        x, y = position(line)\n",
    "        if (x, y) in black_tiles:\n",
    "            black_tiles.discard((x, y))\n",
    "        else:\n",
    "            black_tiles.add((x, y))\n",
    "    return black_tiles\n",
    "\n",
    "def solve2(lines, ns):\n",
    "    offsets = list(dirs.values())\n",
    "    btiles = solve1(lines)\n",
    "    for _ in range(ns):\n",
    "        to_check = set()\n",
    "        new_btiles = set()\n",
    "        for x, y in btiles:\n",
    "            s = 0\n",
    "            for dx, dy in offsets:\n",
    "                if (x + dx, y + dy) in btiles:\n",
    "                    s += 1\n",
    "                to_check.add((x + dx, y + dy))\n",
    "            if not (s == 0 or s > 2):\n",
    "                new_btiles.add((x, y))\n",
    "        for x, y in to_check:\n",
    "            s = sum(1 for (dx, dy) in offsets if (x + dx, y + dy) in btiles)\n",
    "            if (x, y) not in btiles and s == 2:\n",
    "                new_btiles.add((x, y))\n",
    "        btiles = new_btiles\n",
    "    return len(btiles)"
   ]
  },
  {
   "cell_type": "code",
   "execution_count": 4,
   "metadata": {},
   "outputs": [],
   "source": [
    "lines = load_input24('/home/marek/Downloads/input_day24.txt')"
   ]
  },
  {
   "cell_type": "code",
   "execution_count": 5,
   "metadata": {},
   "outputs": [
    {
     "data": {
      "text/plain": [
       "434"
      ]
     },
     "execution_count": 5,
     "metadata": {},
     "output_type": "execute_result"
    }
   ],
   "source": [
    "# First part\n",
    "len(solve1(lines))"
   ]
  },
  {
   "cell_type": "code",
   "execution_count": 6,
   "metadata": {},
   "outputs": [
    {
     "data": {
      "text/plain": [
       "3955"
      ]
     },
     "execution_count": 6,
     "metadata": {},
     "output_type": "execute_result"
    }
   ],
   "source": [
    "# Second part\n",
    "solve2(lines, 100)"
   ]
  },
  {
   "cell_type": "markdown",
   "metadata": {},
   "source": [
    "### Day 25"
   ]
  },
  {
   "cell_type": "code",
   "execution_count": 1,
   "metadata": {},
   "outputs": [],
   "source": [
    "def guess_ls(target):\n",
    "    v = 1\n",
    "    n = 0\n",
    "    while v != target:\n",
    "        n += 1\n",
    "        v = (v*7)%20201227\n",
    "    return n\n",
    "\n",
    "def pow_m(x, n):\n",
    "    v = 1\n",
    "    while n > 1:\n",
    "        if n%2 == 0:\n",
    "            x = (x*x)%20201227\n",
    "            n //= 2\n",
    "        else:\n",
    "            v = (v*x)%20201227\n",
    "            n -= 1\n",
    "    return (v*x)%20201227"
   ]
  },
  {
   "cell_type": "code",
   "execution_count": 2,
   "metadata": {},
   "outputs": [],
   "source": [
    "p1 = 2959251\n",
    "p2 = 4542595\n",
    "ls1 = guess_ls(p1)\n",
    "ls2 = guess_ls(p2)"
   ]
  },
  {
   "cell_type": "code",
   "execution_count": 3,
   "metadata": {},
   "outputs": [
    {
     "data": {
      "text/plain": [
       "3803729"
      ]
     },
     "execution_count": 3,
     "metadata": {},
     "output_type": "execute_result"
    }
   ],
   "source": [
    "pow_m(p2, ls1)"
   ]
  },
  {
   "cell_type": "code",
   "execution_count": 4,
   "metadata": {},
   "outputs": [
    {
     "data": {
      "text/plain": [
       "3803729"
      ]
     },
     "execution_count": 4,
     "metadata": {},
     "output_type": "execute_result"
    }
   ],
   "source": [
    "pow_m(p1, ls2)"
   ]
  },
  {
   "cell_type": "code",
   "execution_count": null,
   "metadata": {},
   "outputs": [],
   "source": []
  }
 ],
 "metadata": {
  "kernelspec": {
   "display_name": "Python 3",
   "language": "python",
   "name": "python3"
  },
  "language_info": {
   "codemirror_mode": {
    "name": "ipython",
    "version": 3
   },
   "file_extension": ".py",
   "mimetype": "text/x-python",
   "name": "python",
   "nbconvert_exporter": "python",
   "pygments_lexer": "ipython3",
   "version": "3.8.5"
  }
 },
 "nbformat": 4,
 "nbformat_minor": 4
}
